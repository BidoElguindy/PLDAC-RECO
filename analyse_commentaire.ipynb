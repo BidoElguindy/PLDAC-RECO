{
 "cells": [
  {
   "cell_type": "code",
   "execution_count": 1,
   "metadata": {
    "colab": {
     "base_uri": "https://localhost:8080/"
    },
    "id": "cLttdOMPnNeS",
    "outputId": "663a4b55-bd0f-465a-aeb3-700e47625be2"
   },
   "outputs": [
    {
     "name": "stdout",
     "output_type": "stream",
     "text": [
      "Requirement already satisfied: pymongo in c:\\users\\habiba\\anaconda3\\lib\\site-packages (4.11.1)\n",
      "Requirement already satisfied: dnspython<3.0.0,>=1.16.0 in c:\\users\\habiba\\anaconda3\\lib\\site-packages (from pymongo) (2.7.0)\n"
     ]
    }
   ],
   "source": [
    "!pip install pymongo"
   ]
  },
  {
   "cell_type": "code",
   "execution_count": 2,
   "metadata": {
    "id": "e14QucQFnRjg"
   },
   "outputs": [],
   "source": [
    "# Imports\n",
    "import bson\n",
    "import numpy as np\n",
    "import pandas as pd\n",
    "import matplotlib.pyplot as plt\n",
    "import seaborn as sns\n",
    "from scipy import stats\n",
    "from wordcloud import WordCloud\n",
    "import re\n",
    "from collections import Counter\n",
    "from nltk.corpus import stopwords\n",
    "import nltk\n",
    "from sklearn.neighbors import KNeighborsRegressor\n",
    "from sklearn.model_selection import train_test_split\n",
    "from sklearn.metrics import mean_squared_error, mean_absolute_error, r2_score\n",
    "from sklearn.model_selection import KFold\n",
    "import string\n",
    "from sklearn.feature_extraction.text import CountVectorizer,TfidfVectorizer"
   ]
  },
  {
   "cell_type": "code",
   "execution_count": 3,
   "metadata": {
    "colab": {
     "base_uri": "https://localhost:8080/"
    },
    "id": "fg2QVXCeTrSJ",
    "outputId": "def46c6e-6310-4d43-9375-ec2367605f4e"
   },
   "outputs": [
    {
     "name": "stdout",
     "output_type": "stream",
     "text": [
      "Requirement already satisfied: scikit-surprise in c:\\users\\habiba\\anaconda3\\lib\\site-packages (1.1.4)\n",
      "Requirement already satisfied: joblib>=1.2.0 in c:\\users\\habiba\\anaconda3\\lib\\site-packages (from scikit-surprise) (1.4.2)\n",
      "Requirement already satisfied: numpy>=1.19.5 in c:\\users\\habiba\\anaconda3\\lib\\site-packages (from scikit-surprise) (1.26.4)\n",
      "Requirement already satisfied: scipy>=1.6.0 in c:\\users\\habiba\\anaconda3\\lib\\site-packages (from scikit-surprise) (1.13.1)\n"
     ]
    }
   ],
   "source": [
    "!pip install scikit-surprise"
   ]
  },
  {
   "cell_type": "code",
   "execution_count": 4,
   "metadata": {
    "id": "bTVEU0ChYXQ-"
   },
   "outputs": [],
   "source": [
    "import bson\n",
    "import numpy as np\n",
    "import pandas as pd\n",
    "import matplotlib.pyplot as plt\n",
    "import seaborn as sns\n",
    "from sklearn.neighbors import KNeighborsRegressor\n",
    "from sklearn.metrics import mean_squared_error, mean_absolute_error, r2_score\n",
    "from scipy.sparse import csr_matrix\n",
    "from surprise import BaselineOnly, SVD\n",
    "from surprise import Dataset\n",
    "from surprise import Reader\n",
    "from surprise import accuracy\n",
    "from surprise.model_selection import train_test_split as surprise_train_test_split\n",
    "from surprise import KNNBasic, KNNWithMeans, NMF\n",
    "from sklearn.neighbors import KNeighborsRegressor\n",
    "from surprise.model_selection import GridSearchCV\n",
    "import time\n"
   ]
  },
  {
   "cell_type": "code",
   "execution_count": 5,
   "metadata": {
    "id": "pj_KeYICToLp"
   },
   "outputs": [],
   "source": [
    "import nltk\n",
    "import spacy"
   ]
  },
  {
   "cell_type": "code",
   "execution_count": 6,
   "metadata": {
    "colab": {
     "base_uri": "https://localhost:8080/"
    },
    "id": "01WPO2PDTqJr",
    "outputId": "3e5dfdd4-4218-4a4a-d233-75109e5cfc36"
   },
   "outputs": [
    {
     "name": "stderr",
     "output_type": "stream",
     "text": [
      "[nltk_data] Downloading package stopwords to\n",
      "[nltk_data]     C:\\Users\\Habiba\\AppData\\Roaming\\nltk_data...\n",
      "[nltk_data]   Package stopwords is already up-to-date!\n"
     ]
    },
    {
     "data": {
      "text/plain": [
       "True"
      ]
     },
     "execution_count": 6,
     "metadata": {},
     "output_type": "execute_result"
    }
   ],
   "source": [
    "nltk.download('stopwords')"
   ]
  },
  {
   "cell_type": "code",
   "execution_count": 7,
   "metadata": {
    "colab": {
     "base_uri": "https://localhost:8080/"
    },
    "id": "a8lep2zZVEya",
    "outputId": "1a65f14e-3e2a-47ed-8d78-535c7d8db58e"
   },
   "outputs": [
    {
     "name": "stdout",
     "output_type": "stream",
     "text": [
      "Collecting fr-core-news-sm==3.8.0\n",
      "  Downloading https://github.com/explosion/spacy-models/releases/download/fr_core_news_sm-3.8.0/fr_core_news_sm-3.8.0-py3-none-any.whl (16.3 MB)\n",
      "     ---------------------------------------- 0.0/16.3 MB ? eta -:--:--\n",
      "     -- ------------------------------------- 1.0/16.3 MB 5.6 MB/s eta 0:00:03\n",
      "     ------ --------------------------------- 2.6/16.3 MB 7.6 MB/s eta 0:00:02\n",
      "     ----------- ---------------------------- 4.7/16.3 MB 8.4 MB/s eta 0:00:02\n",
      "     ---------------- ----------------------- 6.8/16.3 MB 8.9 MB/s eta 0:00:02\n",
      "     ---------------------- ----------------- 9.2/16.3 MB 9.4 MB/s eta 0:00:01\n",
      "     ---------------------------- ----------- 11.5/16.3 MB 9.8 MB/s eta 0:00:01\n",
      "     ---------------------------------- ----- 13.9/16.3 MB 9.9 MB/s eta 0:00:01\n",
      "     ---------------------------------------  16.3/16.3 MB 9.9 MB/s eta 0:00:01\n",
      "     ---------------------------------------- 16.3/16.3 MB 9.7 MB/s eta 0:00:00\n",
      "Installing collected packages: fr-core-news-sm\n",
      "Successfully installed fr-core-news-sm-3.8.0\n",
      "\u001b[38;5;2m[+] Download and installation successful\u001b[0m\n",
      "You can now load the package via spacy.load('fr_core_news_sm')\n"
     ]
    }
   ],
   "source": [
    "!python -m spacy download fr_core_news_sm"
   ]
  },
  {
   "cell_type": "code",
   "execution_count": 9,
   "metadata": {
    "id": "ifkRtBybnZRt"
   },
   "outputs": [],
   "source": [
    "# Open and read the BSON files\n",
    "with open(\"./trictrac/details.bson\", \"rb\") as f:\n",
    "    details = bson.decode_all(f.read())\n",
    "\n",
    "\n",
    "with open(\"./trictrac/infos_scrapping.bson\", \"rb\") as f:\n",
    "    infos = bson.decode_all(f.read())\n",
    "\n",
    "with open(\"./trictrac/jeux.bson\", \"rb\") as f:\n",
    "    jeux = bson.decode_all(f.read())\n",
    "\n",
    "\n",
    "with open(\"./trictrac/avis.bson\", \"rb\") as f:\n",
    "    avis = bson.decode_all(f.read())"
   ]
  },
  {
   "cell_type": "code",
   "execution_count": 202,
   "metadata": {
    "colab": {
     "base_uri": "https://localhost:8080/"
    },
    "id": "r_-Rcc36nd8O",
    "outputId": "2b825842-e360-4a3f-e208-44e10b3f9856"
   },
   "outputs": [
    {
     "name": "stdout",
     "output_type": "stream",
     "text": [
      "Longeur de chaque table de données avis: 246524, jeux: 20235, infos: 532, details : 20234\n"
     ]
    }
   ],
   "source": [
    "len_details=len(details)\n",
    "len_jeux=len(jeux)\n",
    "len_infos=len(infos)\n",
    "len_avis=len(avis)\n",
    "print(f\"Longeur de chaque table de données avis: {len_avis}, jeux: {len_jeux}, infos: {len_infos}, details : {len_details}\")\n"
   ]
  },
  {
   "cell_type": "code",
   "execution_count": 235,
   "metadata": {
    "id": "tdqRZX09YRWg"
   },
   "outputs": [],
   "source": [
    "pdDetails = pd.DataFrame(details)\n",
    "pdJeux = pd.DataFrame(jeux)\n",
    "pdInfos = pd.DataFrame(infos)\n",
    "pdAvis = pd.DataFrame(avis)"
   ]
  },
  {
   "cell_type": "code",
   "execution_count": 236,
   "metadata": {
    "colab": {
     "base_uri": "https://localhost:8080/"
    },
    "id": "yxX8xJuXTrR_",
    "outputId": "896694af-d92e-4963-eb24-68f3f74220b1"
   },
   "outputs": [
    {
     "name": "stdout",
     "output_type": "stream",
     "text": [
      "\n",
      "Avis:\n",
      "                note\n",
      "count  246524.00000\n",
      "mean        7.59307\n",
      "std         2.12589\n",
      "min         0.00000\n",
      "25%         6.00000\n",
      "50%         8.00000\n",
      "75%         9.40000\n",
      "max        10.00000\n"
     ]
    }
   ],
   "source": [
    "pdAvis = pd.DataFrame(avis)\n",
    "print(\"\\nAvis:\\n\", pdAvis.describe())"
   ]
  },
  {
   "cell_type": "code",
   "execution_count": 237,
   "metadata": {
    "colab": {
     "base_uri": "https://localhost:8080/",
     "height": 521
    },
    "id": "pZJ8AheuTrR_",
    "outputId": "c13b86ad-c5b0-4b58-c49a-0ad25debbbdc"
   },
   "outputs": [
    {
     "data": {
      "text/html": [
       "<div>\n",
       "<style scoped>\n",
       "    .dataframe tbody tr th:only-of-type {\n",
       "        vertical-align: middle;\n",
       "    }\n",
       "\n",
       "    .dataframe tbody tr th {\n",
       "        vertical-align: top;\n",
       "    }\n",
       "\n",
       "    .dataframe thead th {\n",
       "        text-align: right;\n",
       "    }\n",
       "</style>\n",
       "<table border=\"1\" class=\"dataframe\">\n",
       "  <thead>\n",
       "    <tr style=\"text-align: right;\">\n",
       "      <th></th>\n",
       "      <th>_id</th>\n",
       "      <th>author</th>\n",
       "      <th>date_published</th>\n",
       "      <th>title_review</th>\n",
       "      <th>note</th>\n",
       "      <th>review_href</th>\n",
       "      <th>title</th>\n",
       "      <th>url</th>\n",
       "      <th>treated</th>\n",
       "      <th>comment</th>\n",
       "    </tr>\n",
       "  </thead>\n",
       "  <tbody>\n",
       "    <tr>\n",
       "      <th>0</th>\n",
       "      <td>63c6726ea81f3e3016af9a56</td>\n",
       "      <td>Monsieur Guillaume</td>\n",
       "      <td>2021-01-27 11:06:44</td>\n",
       "      <td>Voyages sur les ailes des papillons</td>\n",
       "      <td>8.0</td>\n",
       "      <td>https://www.trictrac.net/avis/vraiment-bon-12514</td>\n",
       "      <td>Mariposas</td>\n",
       "      <td>https://www.trictrac.net/jeu-de-societe/maripo...</td>\n",
       "      <td>True</td>\n",
       "      <td>Lorsque le jeu est jeu, bon, réflexif, joli po...</td>\n",
       "    </tr>\n",
       "    <tr>\n",
       "      <th>1</th>\n",
       "      <td>63c6726ea81f3e3016af9a57</td>\n",
       "      <td>morlockbob</td>\n",
       "      <td>2020-10-18 10:04:21</td>\n",
       "      <td>le festival de Michoacan</td>\n",
       "      <td>7.0</td>\n",
       "      <td>https://www.trictrac.net/avis/le-festival-de-m...</td>\n",
       "      <td>Mariposas</td>\n",
       "      <td>https://www.trictrac.net/jeu-de-societe/maripo...</td>\n",
       "      <td>True</td>\n",
       "      <td>Comment continuer après un mega hit ? Simpleme...</td>\n",
       "    </tr>\n",
       "    <tr>\n",
       "      <th>2</th>\n",
       "      <td>63c6726ea81f3e3016af9a58</td>\n",
       "      <td>SwatSh</td>\n",
       "      <td>2021-02-01 08:35:08</td>\n",
       "      <td>Vivez la migration des monarques</td>\n",
       "      <td>7.0</td>\n",
       "      <td>https://www.trictrac.net/avis/vivez-la-migrati...</td>\n",
       "      <td>Mariposas</td>\n",
       "      <td>https://www.trictrac.net/jeu-de-societe/maripo...</td>\n",
       "      <td>True</td>\n",
       "      <td>Vin d'jeu: Avec Mariposas, Elizabeth Hargrave ...</td>\n",
       "    </tr>\n",
       "    <tr>\n",
       "      <th>3</th>\n",
       "      <td>63c6726ea81f3e3016af9a59</td>\n",
       "      <td>Timi JeuxATheme</td>\n",
       "      <td>2020-11-19 17:04:57</td>\n",
       "      <td>Bon</td>\n",
       "      <td>8.0</td>\n",
       "      <td>None</td>\n",
       "      <td>Mariposas</td>\n",
       "      <td>https://www.trictrac.net/jeu-de-societe/maripo...</td>\n",
       "      <td>True</td>\n",
       "      <td>NaN</td>\n",
       "    </tr>\n",
       "    <tr>\n",
       "      <th>4</th>\n",
       "      <td>63c6726ea81f3e3016af9a5a</td>\n",
       "      <td>prunelles</td>\n",
       "      <td>2021-05-24 12:43:18</td>\n",
       "      <td>Envolez-moi</td>\n",
       "      <td>9.0</td>\n",
       "      <td>https://www.trictrac.net/avis/envolez-moi</td>\n",
       "      <td>Mariposas</td>\n",
       "      <td>https://www.trictrac.net/jeu-de-societe/maripo...</td>\n",
       "      <td>True</td>\n",
       "      <td>Très joli bijou que ce jeu-là ! Le matériel, l...</td>\n",
       "    </tr>\n",
       "  </tbody>\n",
       "</table>\n",
       "</div>"
      ],
      "text/plain": [
       "                        _id              author       date_published  \\\n",
       "0  63c6726ea81f3e3016af9a56  Monsieur Guillaume  2021-01-27 11:06:44   \n",
       "1  63c6726ea81f3e3016af9a57          morlockbob  2020-10-18 10:04:21   \n",
       "2  63c6726ea81f3e3016af9a58              SwatSh  2021-02-01 08:35:08   \n",
       "3  63c6726ea81f3e3016af9a59     Timi JeuxATheme  2020-11-19 17:04:57   \n",
       "4  63c6726ea81f3e3016af9a5a           prunelles  2021-05-24 12:43:18   \n",
       "\n",
       "                          title_review  note  \\\n",
       "0  Voyages sur les ailes des papillons   8.0   \n",
       "1             le festival de Michoacan   7.0   \n",
       "2     Vivez la migration des monarques   7.0   \n",
       "3                                  Bon   8.0   \n",
       "4                          Envolez-moi   9.0   \n",
       "\n",
       "                                         review_href      title  \\\n",
       "0   https://www.trictrac.net/avis/vraiment-bon-12514  Mariposas   \n",
       "1  https://www.trictrac.net/avis/le-festival-de-m...  Mariposas   \n",
       "2  https://www.trictrac.net/avis/vivez-la-migrati...  Mariposas   \n",
       "3                                               None  Mariposas   \n",
       "4          https://www.trictrac.net/avis/envolez-moi  Mariposas   \n",
       "\n",
       "                                                 url  treated  \\\n",
       "0  https://www.trictrac.net/jeu-de-societe/maripo...     True   \n",
       "1  https://www.trictrac.net/jeu-de-societe/maripo...     True   \n",
       "2  https://www.trictrac.net/jeu-de-societe/maripo...     True   \n",
       "3  https://www.trictrac.net/jeu-de-societe/maripo...     True   \n",
       "4  https://www.trictrac.net/jeu-de-societe/maripo...     True   \n",
       "\n",
       "                                             comment  \n",
       "0  Lorsque le jeu est jeu, bon, réflexif, joli po...  \n",
       "1  Comment continuer après un mega hit ? Simpleme...  \n",
       "2  Vin d'jeu: Avec Mariposas, Elizabeth Hargrave ...  \n",
       "3                                                NaN  \n",
       "4  Très joli bijou que ce jeu-là ! Le matériel, l...  "
      ]
     },
     "execution_count": 237,
     "metadata": {},
     "output_type": "execute_result"
    }
   ],
   "source": [
    "pdAvis.head()"
   ]
  },
  {
   "cell_type": "code",
   "execution_count": 238,
   "metadata": {
    "colab": {
     "base_uri": "https://localhost:8080/"
    },
    "id": "rBGh71tBTrSA",
    "outputId": "221d57cd-a12e-4109-e17d-d1eb963fe5fd"
   },
   "outputs": [
    {
     "name": "stdout",
     "output_type": "stream",
     "text": [
      "Lorsque le jeu est jeu, bon, réflexif, joli pour qui est sensible à ce style d'illustration... Lorsque l'on a envie d'y rejouer encore pour essayer autrement, et revivre cette histoire de papillons et de voyages... Et lorsqu'en plus, au détour des règles, on s'intéresse également au propos et à la sensibilisation, légère comme les ailes du dit-papillons et pourtant aussi bien amené, alors effectivement, il y a là un très bon jeu, ludiquement parlant (et il est possible de s'arrêter là) mais également très bon pour l'ouverture des yeux des joueuses et joueurs au monde qui nous entoure... Ça, c'est deux fois bon !\n"
     ]
    }
   ],
   "source": [
    "print(pdAvis.loc[0, \"comment\"])  # Affiche le premier commentaire"
   ]
  },
  {
   "cell_type": "code",
   "execution_count": 239,
   "metadata": {
    "colab": {
     "base_uri": "https://localhost:8080/",
     "height": 350
    },
    "id": "t6lgfjrWTrSA",
    "outputId": "3d43bf2e-8c98-4eaf-974e-76abb92ff49d"
   },
   "outputs": [
    {
     "data": {
      "image/png": "[encoded data removed]",
      "text/plain": [
       "<Figure size 500x300 with 1 Axes>"
      ]
     },
     "metadata": {},
     "output_type": "display_data"
    },
    {
     "name": "stdout",
     "output_type": "stream",
     "text": [
      "Average review length: 619 characters\n"
     ]
    }
   ],
   "source": [
    "pdAvis['review_length'] = pdAvis['comment'].str.len()\n",
    "\n",
    "plt.figure(figsize=(5, 3))\n",
    "sns.histplot(data=pdAvis, x='review_length',bins=50)\n",
    "plt.title('Distribution of Review Lengths')\n",
    "plt.show()\n",
    "\n",
    "print(f\"Average review length: {pdAvis['review_length'].mean():.0f} characters\")"
   ]
  },
  {
   "cell_type": "code",
   "execution_count": 240,
   "metadata": {
    "colab": {
     "base_uri": "https://localhost:8080/",
     "height": 564
    },
    "id": "K1btsQVfTrSA",
    "outputId": "a0c73583-0be1-4042-9d74-ab467d6032b5"
   },
   "outputs": [
    {
     "data": {
      "image/png": "[encoded data removed]",
      "text/plain": [
       "<Figure size 800x600 with 1 Axes>"
      ]
     },
     "metadata": {},
     "output_type": "display_data"
    }
   ],
   "source": [
    "# Analyze if review length correlates with rating\n",
    "plt.figure(figsize=(8, 6))\n",
    "sns.scatterplot(data=pdAvis, x='review_length', y='note')\n",
    "plt.title('Review Length vs Rating')\n",
    "plt.xlabel('Review Length (characters)')\n",
    "plt.ylabel('Rating')\n",
    "plt.show()"
   ]
  },
  {
   "cell_type": "code",
   "execution_count": 241,
   "metadata": {
    "colab": {
     "base_uri": "https://localhost:8080/",
     "height": 305
    },
    "id": "qjnIavrDTrSA",
    "outputId": "34c49090-89d1-47df-dfe6-6620330c72e0"
   },
   "outputs": [
    {
     "data": {
      "text/html": [
       "<div>\n",
       "<style scoped>\n",
       "    .dataframe tbody tr th:only-of-type {\n",
       "        vertical-align: middle;\n",
       "    }\n",
       "\n",
       "    .dataframe tbody tr th {\n",
       "        vertical-align: top;\n",
       "    }\n",
       "\n",
       "    .dataframe thead th {\n",
       "        text-align: right;\n",
       "    }\n",
       "</style>\n",
       "<table border=\"1\" class=\"dataframe\">\n",
       "  <thead>\n",
       "    <tr style=\"text-align: right;\">\n",
       "      <th></th>\n",
       "      <th>_id</th>\n",
       "      <th>author</th>\n",
       "      <th>date_published</th>\n",
       "      <th>title_review</th>\n",
       "      <th>note</th>\n",
       "      <th>review_href</th>\n",
       "      <th>title</th>\n",
       "      <th>url</th>\n",
       "      <th>treated</th>\n",
       "      <th>comment</th>\n",
       "      <th>review_length</th>\n",
       "    </tr>\n",
       "  </thead>\n",
       "  <tbody>\n",
       "    <tr>\n",
       "      <th>22193</th>\n",
       "      <td>63c67506993b727dc2a7a3a6</td>\n",
       "      <td>The Lonesome Meeple</td>\n",
       "      <td>2020-04-16 18:24:56</td>\n",
       "      <td>Histoire de Meeples #1 Sub Terra [Partie narra...</td>\n",
       "      <td>10.0</td>\n",
       "      <td>https://www.trictrac.net/avis/sub-terra-partie...</td>\n",
       "      <td>Sub Terra</td>\n",
       "      <td>https://www.trictrac.net/jeu-de-societe/sub-te...</td>\n",
       "      <td>True</td>\n",
       "      <td>Récit à retrouver sur mon blog Histoires de Me...</td>\n",
       "      <td>58097.0</td>\n",
       "    </tr>\n",
       "    <tr>\n",
       "      <th>79884</th>\n",
       "      <td>63c6776e993b727dc2a88501</td>\n",
       "      <td>The Lonesome Meeple</td>\n",
       "      <td>2020-04-16 18:24:56</td>\n",
       "      <td>Histoire de Meeples #1 Sub Terra [Partie narra...</td>\n",
       "      <td>10.0</td>\n",
       "      <td>https://www.trictrac.net/avis/sub-terra-partie...</td>\n",
       "      <td>Sub Terra</td>\n",
       "      <td>https://www.trictrac.net/jeu-de-societe/sub-te...</td>\n",
       "      <td>True</td>\n",
       "      <td>Récit à retrouver sur mon blog Histoires de Me...</td>\n",
       "      <td>58097.0</td>\n",
       "    </tr>\n",
       "  </tbody>\n",
       "</table>\n",
       "</div>"
      ],
      "text/plain": [
       "                            _id               author       date_published  \\\n",
       "22193  63c67506993b727dc2a7a3a6  The Lonesome Meeple  2020-04-16 18:24:56   \n",
       "79884  63c6776e993b727dc2a88501  The Lonesome Meeple  2020-04-16 18:24:56   \n",
       "\n",
       "                                            title_review  note  \\\n",
       "22193  Histoire de Meeples #1 Sub Terra [Partie narra...  10.0   \n",
       "79884  Histoire de Meeples #1 Sub Terra [Partie narra...  10.0   \n",
       "\n",
       "                                             review_href      title  \\\n",
       "22193  https://www.trictrac.net/avis/sub-terra-partie...  Sub Terra   \n",
       "79884  https://www.trictrac.net/avis/sub-terra-partie...  Sub Terra   \n",
       "\n",
       "                                                     url  treated  \\\n",
       "22193  https://www.trictrac.net/jeu-de-societe/sub-te...     True   \n",
       "79884  https://www.trictrac.net/jeu-de-societe/sub-te...     True   \n",
       "\n",
       "                                                 comment  review_length  \n",
       "22193  Récit à retrouver sur mon blog Histoires de Me...        58097.0  \n",
       "79884  Récit à retrouver sur mon blog Histoires de Me...        58097.0  "
      ]
     },
     "execution_count": 241,
     "metadata": {},
     "output_type": "execute_result"
    }
   ],
   "source": [
    "#2 reviews with around 60000 words that arent interesting to keep (they are spam)\n",
    "pdAvis[pdAvis[\"review_length\"] >50000]"
   ]
  },
  {
   "cell_type": "code",
   "execution_count": 242,
   "metadata": {
    "colab": {
     "base_uri": "https://localhost:8080/",
     "height": 576
    },
    "id": "CJ9vBmB9TrSB",
    "outputId": "dd7445e7-20fd-472f-cdae-07d638457c03"
   },
   "outputs": [
    {
     "data": {
      "text/html": [
       "<div>\n",
       "<style scoped>\n",
       "    .dataframe tbody tr th:only-of-type {\n",
       "        vertical-align: middle;\n",
       "    }\n",
       "\n",
       "    .dataframe tbody tr th {\n",
       "        vertical-align: top;\n",
       "    }\n",
       "\n",
       "    .dataframe thead th {\n",
       "        text-align: right;\n",
       "    }\n",
       "</style>\n",
       "<table border=\"1\" class=\"dataframe\">\n",
       "  <thead>\n",
       "    <tr style=\"text-align: right;\">\n",
       "      <th></th>\n",
       "      <th>_id</th>\n",
       "      <th>author</th>\n",
       "      <th>date_published</th>\n",
       "      <th>title_review</th>\n",
       "      <th>note</th>\n",
       "      <th>review_href</th>\n",
       "      <th>title</th>\n",
       "      <th>url</th>\n",
       "      <th>treated</th>\n",
       "      <th>comment</th>\n",
       "      <th>review_length</th>\n",
       "    </tr>\n",
       "  </thead>\n",
       "  <tbody>\n",
       "    <tr>\n",
       "      <th>21474</th>\n",
       "      <td>63c67500993b727dc2a7a0d7</td>\n",
       "      <td>The Lonesome Meeple</td>\n",
       "      <td>2020-04-21 22:32:46</td>\n",
       "      <td>Histoire de Meeples #4 SOS Dino |Partie Narrat...</td>\n",
       "      <td>10.0</td>\n",
       "      <td>https://www.trictrac.net/avis/histoire-de-meep...</td>\n",
       "      <td>SOS DINO</td>\n",
       "      <td>https://www.trictrac.net/jeu-de-societe/sos-di...</td>\n",
       "      <td>True</td>\n",
       "      <td>Récit à retrouver avec photos sur mon blog His...</td>\n",
       "      <td>12044.0</td>\n",
       "    </tr>\n",
       "    <tr>\n",
       "      <th>22193</th>\n",
       "      <td>63c67506993b727dc2a7a3a6</td>\n",
       "      <td>The Lonesome Meeple</td>\n",
       "      <td>2020-04-16 18:24:56</td>\n",
       "      <td>Histoire de Meeples #1 Sub Terra [Partie narra...</td>\n",
       "      <td>10.0</td>\n",
       "      <td>https://www.trictrac.net/avis/sub-terra-partie...</td>\n",
       "      <td>Sub Terra</td>\n",
       "      <td>https://www.trictrac.net/jeu-de-societe/sub-te...</td>\n",
       "      <td>True</td>\n",
       "      <td>Récit à retrouver sur mon blog Histoires de Me...</td>\n",
       "      <td>58097.0</td>\n",
       "    </tr>\n",
       "    <tr>\n",
       "      <th>79884</th>\n",
       "      <td>63c6776e993b727dc2a88501</td>\n",
       "      <td>The Lonesome Meeple</td>\n",
       "      <td>2020-04-16 18:24:56</td>\n",
       "      <td>Histoire de Meeples #1 Sub Terra [Partie narra...</td>\n",
       "      <td>10.0</td>\n",
       "      <td>https://www.trictrac.net/avis/sub-terra-partie...</td>\n",
       "      <td>Sub Terra</td>\n",
       "      <td>https://www.trictrac.net/jeu-de-societe/sub-te...</td>\n",
       "      <td>True</td>\n",
       "      <td>Récit à retrouver sur mon blog Histoires de Me...</td>\n",
       "      <td>58097.0</td>\n",
       "    </tr>\n",
       "    <tr>\n",
       "      <th>84272</th>\n",
       "      <td>63c67799993b727dc2a89625</td>\n",
       "      <td>The Lonesome Meeple</td>\n",
       "      <td>2020-04-21 22:32:46</td>\n",
       "      <td>Histoire de Meeples #4 SOS Dino |Partie Narrat...</td>\n",
       "      <td>10.0</td>\n",
       "      <td>https://www.trictrac.net/avis/histoire-de-meep...</td>\n",
       "      <td>SOS DINO</td>\n",
       "      <td>https://www.trictrac.net/jeu-de-societe/sos-di...</td>\n",
       "      <td>True</td>\n",
       "      <td>Récit à retrouver avec photos sur mon blog His...</td>\n",
       "      <td>12044.0</td>\n",
       "    </tr>\n",
       "  </tbody>\n",
       "</table>\n",
       "</div>"
      ],
      "text/plain": [
       "                            _id               author       date_published  \\\n",
       "21474  63c67500993b727dc2a7a0d7  The Lonesome Meeple  2020-04-21 22:32:46   \n",
       "22193  63c67506993b727dc2a7a3a6  The Lonesome Meeple  2020-04-16 18:24:56   \n",
       "79884  63c6776e993b727dc2a88501  The Lonesome Meeple  2020-04-16 18:24:56   \n",
       "84272  63c67799993b727dc2a89625  The Lonesome Meeple  2020-04-21 22:32:46   \n",
       "\n",
       "                                            title_review  note  \\\n",
       "21474  Histoire de Meeples #4 SOS Dino |Partie Narrat...  10.0   \n",
       "22193  Histoire de Meeples #1 Sub Terra [Partie narra...  10.0   \n",
       "79884  Histoire de Meeples #1 Sub Terra [Partie narra...  10.0   \n",
       "84272  Histoire de Meeples #4 SOS Dino |Partie Narrat...  10.0   \n",
       "\n",
       "                                             review_href      title  \\\n",
       "21474  https://www.trictrac.net/avis/histoire-de-meep...   SOS DINO   \n",
       "22193  https://www.trictrac.net/avis/sub-terra-partie...  Sub Terra   \n",
       "79884  https://www.trictrac.net/avis/sub-terra-partie...  Sub Terra   \n",
       "84272  https://www.trictrac.net/avis/histoire-de-meep...   SOS DINO   \n",
       "\n",
       "                                                     url  treated  \\\n",
       "21474  https://www.trictrac.net/jeu-de-societe/sos-di...     True   \n",
       "22193  https://www.trictrac.net/jeu-de-societe/sub-te...     True   \n",
       "79884  https://www.trictrac.net/jeu-de-societe/sub-te...     True   \n",
       "84272  https://www.trictrac.net/jeu-de-societe/sos-di...     True   \n",
       "\n",
       "                                                 comment  review_length  \n",
       "21474  Récit à retrouver avec photos sur mon blog His...        12044.0  \n",
       "22193  Récit à retrouver sur mon blog Histoires de Me...        58097.0  \n",
       "79884  Récit à retrouver sur mon blog Histoires de Me...        58097.0  \n",
       "84272  Récit à retrouver avec photos sur mon blog His...        12044.0  "
      ]
     },
     "execution_count": 242,
     "metadata": {},
     "output_type": "execute_result"
    }
   ],
   "source": [
    "pdAvis[pdAvis[\"author\"]== \"The Lonesome Meeple\"]"
   ]
  },
  {
   "cell_type": "code",
   "execution_count": 243,
   "metadata": {
    "colab": {
     "base_uri": "https://localhost:8080/"
    },
    "id": "EeSNERlqTrSB",
    "outputId": "117ace63-045b-4731-accc-322db1465e7f"
   },
   "outputs": [
    {
     "name": "stdout",
     "output_type": "stream",
     "text": [
      "Dimensions de pdAvis avant nettoyage : (246524, 11)\n"
     ]
    }
   ],
   "source": [
    "print(f\"Dimensions de pdAvis avant nettoyage : {pdAvis.shape}\")"
   ]
  },
  {
   "cell_type": "code",
   "execution_count": 244,
   "metadata": {
    "colab": {
     "base_uri": "https://localhost:8080/"
    },
    "id": "67PMdxoWTrSB",
    "outputId": "9462901e-a623-42a8-e263-56978a949ffa"
   },
   "outputs": [
    {
     "name": "stdout",
     "output_type": "stream",
     "text": [
      "Dimensions de pdAvis après nettoyage : (246522, 11)\n"
     ]
    }
   ],
   "source": [
    "pdAvis=pdAvis[pdAvis[\"review_length\"] != 58097.0]\n",
    "print(f\"Dimensions de pdAvis après nettoyage : {pdAvis.shape}\")"
   ]
  },
  {
   "cell_type": "code",
   "execution_count": 245,
   "metadata": {
    "colab": {
     "base_uri": "https://localhost:8080/"
    },
    "id": "FiKHFH2lTrSB",
    "outputId": "ed2368eb-342c-4ae8-fc7f-142ddc083ba8"
   },
   "outputs": [
    {
     "name": "stdout",
     "output_type": "stream",
     "text": [
      "Dimensions de pdAvis avant nettoyage : (246522, 11)\n",
      "Dimensions de pdAvis après nettoyage : (176242, 11)\n"
     ]
    }
   ],
   "source": [
    "#enlever les doublons\n",
    "pdAvis = pdAvis.copy()\n",
    "print(f\"Dimensions de pdAvis avant nettoyage : {pdAvis.shape}\")\n",
    "pdAvis.drop_duplicates(subset=['author', 'date_published', 'title_review', 'note', 'review_href', 'title', 'url', 'treated', 'comment' , 'review_length'], inplace=True)\n",
    "print(f\"Dimensions de pdAvis après nettoyage : {pdAvis.shape}\")"
   ]
  },
  {
   "cell_type": "code",
   "execution_count": 246,
   "metadata": {
    "colab": {
     "base_uri": "https://localhost:8080/"
    },
    "id": "D1c0OMiWTrSB",
    "outputId": "a5769831-a325-4102-83bf-1c663793b745"
   },
   "outputs": [
    {
     "name": "stdout",
     "output_type": "stream",
     "text": [
      "Dimensions de pdAvis après nettoyage : (150723, 11)\n"
     ]
    }
   ],
   "source": [
    "# Supprimer les lignes où 'comment' est NaN ou vide\n",
    "pdAvis.dropna(subset=['comment'], inplace=True)\n",
    "print(f\"Dimensions de pdAvis après nettoyage : {pdAvis.shape}\")"
   ]
  },
  {
   "cell_type": "code",
   "execution_count": 247,
   "metadata": {
    "colab": {
     "base_uri": "https://localhost:8080/"
    },
    "id": "U9yWKgi3TrSB",
    "outputId": "a5105120-e0e5-471a-bc7b-605f3a97ed8f"
   },
   "outputs": [
    {
     "name": "stdout",
     "output_type": "stream",
     "text": [
      "Dimensions de pdAvis après nettoyage : (142845, 11)\n"
     ]
    }
   ],
   "source": [
    "# Optionnel : enlever aussi les commentaires vides (juste espaces)\n",
    "pdAvis = pdAvis[pdAvis['comment'].str.strip() != \"\"]\n",
    "print(f\"Dimensions de pdAvis après nettoyage : {pdAvis.shape}\")"
   ]
  },
  {
   "cell_type": "code",
   "execution_count": 248,
   "metadata": {
    "colab": {
     "base_uri": "https://localhost:8080/",
     "height": 350
    },
    "id": "CvNkaaoNTrSB",
    "outputId": "cdc6a41b-c728-46e8-f237-8f3910a58858"
   },
   "outputs": [
    {
     "data": {
      "image/png": "[encoded data removed]",
      "text/plain": [
       "<Figure size 500x300 with 1 Axes>"
      ]
     },
     "metadata": {},
     "output_type": "display_data"
    },
    {
     "name": "stdout",
     "output_type": "stream",
     "text": [
      "Average review length: 640 characters\n"
     ]
    }
   ],
   "source": [
    "#We redid the statistcs about the review length to verify, all is good,the highest review is real\n",
    "plt.figure(figsize=(5, 3))\n",
    "sns.histplot(data=pdAvis, x='review_length',bins=50)\n",
    "plt.title('Distribution of Review Lengths')\n",
    "plt.show()\n",
    "\n",
    "print(f\"Average review length: {pdAvis['review_length'].mean():.0f} characters\")"
   ]
  },
  {
   "cell_type": "code",
   "execution_count": 249,
   "metadata": {
    "colab": {
     "base_uri": "https://localhost:8080/"
    },
    "id": "6FBu944lE244",
    "outputId": "b53ba833-05dc-4a03-c2f5-50c3af680af7"
   },
   "outputs": [
    {
     "name": "stdout",
     "output_type": "stream",
     "text": [
      "title\n",
      "Shogun                                 166\n",
      "Carcassonne - Die Jäger und Sammler    150\n",
      "Jeu de Cochons                         148\n",
      "Dune                                   148\n",
      "La Città                               148\n",
      "                                      ... \n",
      "Warhammer patrouilles                    1\n",
      "Praetoria Prima                          1\n",
      "Thalie                                   1\n",
      "Jason                                    1\n",
      "Liar's dice                              1\n",
      "Name: count, Length: 10341, dtype: int64\n"
     ]
    }
   ],
   "source": [
    "comment_counts = pdAvis[\"title\"].value_counts()\n",
    "print(comment_counts)\n"
   ]
  },
  {
   "cell_type": "code",
   "execution_count": 250,
   "metadata": {
    "colab": {
     "base_uri": "https://localhost:8080/"
    },
    "id": "aKpmiuq_BgQ4",
    "outputId": "b9e1bff2-a10e-4751-dcb7-32d4c3fd6c66"
   },
   "outputs": [
    {
     "name": "stdout",
     "output_type": "stream",
     "text": [
      "Dimensions de pdAvis avant nettoyage : (142845, 11)\n",
      "Dimensions de pdAvis après nettoyage : (140157, 11)\n"
     ]
    }
   ],
   "source": [
    "# Filtrer les jeux avec au moins 2 commentaires --> Difficile à recommander intelligemment (trop peu d’infos)\n",
    "print(f\"Dimensions de pdAvis avant nettoyage : {pdAvis.shape}\")\n",
    "game_counts = pdAvis['title'].value_counts()\n",
    "valid_games = game_counts[game_counts >= 2].index\n",
    "pdAvis = pdAvis[pdAvis['title'].isin(valid_games)]\n",
    "print(f\"Dimensions de pdAvis après nettoyage : {pdAvis.shape}\")"
   ]
  },
  {
   "cell_type": "code",
   "execution_count": 251,
   "metadata": {
    "colab": {
     "base_uri": "https://localhost:8080/"
    },
    "id": "nA7pjSqnFPel",
    "outputId": "8e923a8b-1a15-412d-d66b-71166c7e1de6"
   },
   "outputs": [
    {
     "name": "stdout",
     "output_type": "stream",
     "text": [
      "862\n"
     ]
    }
   ],
   "source": [
    "lis = pdAvis[\"author\"].value_counts()\n",
    "print(len(lis[lis == 3]))"
   ]
  },
  {
   "cell_type": "code",
   "execution_count": 28,
   "metadata": {
    "colab": {
     "base_uri": "https://localhost:8080/"
    },
    "id": "u7NTHoxxEEcq",
    "outputId": "978ca456-9916-4fb3-a24e-b53971f27b78"
   },
   "outputs": [
    {
     "name": "stdout",
     "output_type": "stream",
     "text": [
      "Dimensions de pdAvis avant nettoyage : (140157, 11)\n",
      "Dimensions de pdAvis après nettoyage : (135605, 11)\n"
     ]
    }
   ],
   "source": [
    "# Filtrer les utilisateurs avec au moins 3 commentaires --> On ne peut pas calculer sa similarité avec d'autres utilisateurs\n",
    "#on veut que le knn soient trouve des voisins reellement similaires\n",
    "#print(f\"Dimensions de pdAvis avant nettoyage : {pdAvis.shape}\")\n",
    "#user_counts = pdAvis['author'].value_counts()\n",
    "#valid_users = user_counts[user_counts >= 2].index\n",
    "#pdAvis = pdAvis[pdAvis['author'].isin(valid_users)]\n",
    "#print(f\"Dimensions de pdAvis après nettoyage : {pdAvis.shape}\")"
   ]
  },
  {
   "cell_type": "code",
   "execution_count": 32,
   "metadata": {
    "colab": {
     "base_uri": "https://localhost:8080/"
    },
    "id": "2epUW56WTrSD",
    "outputId": "7791a8ef-a392-4ea1-9545-9922751abbed"
   },
   "outputs": [
    {
     "name": "stdout",
     "output_type": "stream",
     "text": [
      "     note                                      comment_clean\n",
      "13    6.0  déçu Mariposas \\n tendance Wingspan auteur pou...\n",
      "17    3.0  bel promesse papier jeu final beaucoup déçu si...\n",
      "36    6.0  cause you don' need anything \\n\\n mysterium ai...\n",
      "53    1.0  jeu magnifiquement boîte logement bien concevo...\n",
      "57    6.0  bien neuf clair lune \\n mise place jeu intéres...\n",
      "78    6.0  déçu jeu avis bon lancer meeple amusant mécani...\n",
      "103   2.0  jeu Not jeu 3 4 vraiment intéressant extension...\n",
      "119   5.0  bonbon ludique   bel impatiemment   coup buzz ...\n",
      "137   5.0  hasard tirage clone faille cher deckbuilding t...\n",
      "205   5.0  grand fan Troyes amateur Roll Write bien sûr t...\n"
     ]
    }
   ],
   "source": [
    "df_notes_basses = pdAvis[pdAvis[\"note\"] <= 6]  # Filtrer les notes ≤ 6\n",
    "# Afficher quelques commentaires négatifs\n",
    "print(df_notes_basses[[\"note\", \"comment_clean\"]].head(10))"
   ]
  },
  {
   "cell_type": "markdown",
   "metadata": {},
   "source": [
    "**meme chose que dans l'autre fichier de la partie 1**"
   ]
  },
  {
   "cell_type": "code",
   "execution_count": 36,
   "metadata": {
    "id": "2z5wlAB7YppE"
   },
   "outputs": [],
   "source": [
    "# Imports\n",
    "import bson\n",
    "import numpy as np\n",
    "import pandas as pd\n",
    "import matplotlib.pyplot as plt\n",
    "import seaborn as sns\n",
    "from scipy import stats\n",
    "from wordcloud import WordCloud\n",
    "import re\n",
    "from collections import Counter\n",
    "from nltk.corpus import stopwords\n",
    "import nltk\n",
    "from sklearn.neighbors import KNeighborsRegressor\n",
    "from sklearn.model_selection import train_test_split\n",
    "from sklearn.metrics import mean_squared_error, mean_absolute_error, r2_score\n",
    "from sklearn.model_selection import KFold\n",
    "from scipy.sparse import csr_matrix\n",
    "\n",
    "\n",
    "\n",
    "###################################################################################################\n",
    "\n",
    "\n",
    "\n",
    "def minipingpong(sparse_matrix, allusers, allgames, min_ratings_users, min_ratings_games, max_iterations=10, plot=True):\n",
    "    matrix = sparse_matrix.tocoo()\n",
    "    users = np.array(allusers)\n",
    "    games = np.array(allgames)\n",
    "    iteration = 0\n",
    "    while iteration < max_iterations:\n",
    "        game_ratings = np.bincount(matrix.col, minlength=len(games))\n",
    "        user_ratings = np.bincount(matrix.row, minlength=len(users))\n",
    "\n",
    "        valid_games = np.where(game_ratings >= min_ratings_games)[0]\n",
    "\n",
    "        valid_users = np.where(user_ratings >= min_ratings_users)[0]\n",
    "\n",
    "        keep = np.isin(matrix.row, valid_users) & np.isin(matrix.col, valid_games)\n",
    "\n",
    "        new_row = matrix.row[keep]\n",
    "        new_col = matrix.col[keep]\n",
    "        new_data = matrix.data[keep]\n",
    "\n",
    "        # Update row and column indices to match new dimensions\n",
    "        row_mapping = {old: new for new, old in enumerate(valid_users)}\n",
    "        col_mapping = {old: new for new, old in enumerate(valid_games)}\n",
    "\n",
    "        new_row = np.array([row_mapping[r] for r in new_row])\n",
    "        new_col = np.array([col_mapping[c] for c in new_col])\n",
    "\n",
    "        # Create the new matrix\n",
    "        matrix = csr_matrix((new_data, (new_row, new_col)),\n",
    "                           shape=(len(valid_users), len(valid_games)))\n",
    "        # Convert back to COO for next iteration\n",
    "        matrix = matrix.tocoo()\n",
    "\n",
    "        # Update user and game lists\n",
    "        users = users[valid_users]\n",
    "        games = games[valid_games]\n",
    "        iteration += 1\n",
    "\n",
    "    final_matrix = matrix.tocsr()\n",
    "\n",
    "    return final_matrix\n",
    "\n",
    "###################################################################################################\n",
    "\n",
    "\n",
    "def subtract_mean(cleaned_matrix):\n",
    "    data_array = cleaned_matrix.toarray()\n",
    "\n",
    "    user_means = []\n",
    "    for i in range(data_array.shape[0]):\n",
    "        user_ratings = data_array[i, :]\n",
    "        non_zero_indices = user_ratings != 0\n",
    "        user_ratings_non_zero = user_ratings[non_zero_indices]\n",
    "\n",
    "        if len(user_ratings_non_zero) > 0:\n",
    "            user_means.append(user_ratings_non_zero.mean())\n",
    "        else:\n",
    "            user_means.append(0)\n",
    "\n",
    "    # Create a new matrix with normalized ratings\n",
    "    normalized_data = []\n",
    "    normalized_rows = []\n",
    "    normalized_cols = []\n",
    "\n",
    "    cleaned_matrix_coo = cleaned_matrix.tocoo()\n",
    "    # For each non-zero entry in the original matrix, subtract user mean\n",
    "    for i, j, v in zip(cleaned_matrix_coo.row, cleaned_matrix_coo.col, cleaned_matrix_coo.data):\n",
    "        normalized_value = v - user_means[i]\n",
    "        normalized_data.append(normalized_value)\n",
    "        normalized_rows.append(i)\n",
    "        normalized_cols.append(j)\n",
    "\n",
    "    # Create new sparse matrix with normalized values\n",
    "    normalized_matrix = csr_matrix(\n",
    "        (normalized_data, (normalized_rows, normalized_cols)),\n",
    "        shape=cleaned_matrix.shape\n",
    "    )\n",
    "    return normalized_matrix\n",
    "\n",
    "\n",
    "###################################################################################################\n",
    "\n",
    "def custom_train_test_split(sparse_matrix, test_size=0.2, max_user_loss=0.5, max_game_loss=0.5):\n",
    "\n",
    "    np.random.seed(42)\n",
    "\n",
    "    coo_matrix = sparse_matrix.tocoo()\n",
    "\n",
    "    # Total number of ratings\n",
    "    n_ratings = coo_matrix.data.size\n",
    "    n_users = sparse_matrix.shape[0]\n",
    "    n_games = sparse_matrix.shape[1]\n",
    "\n",
    "    # Count ratings per user and per game\n",
    "    user_ratings = np.bincount(coo_matrix.row, minlength=n_users)\n",
    "    game_ratings = np.bincount(coo_matrix.col, minlength=n_games)\n",
    "\n",
    "    # Calculate maximum allowed test ratings per user and game\n",
    "    max_test_per_user = np.floor(user_ratings * max_user_loss).astype(int)\n",
    "    max_test_per_game = np.floor(game_ratings * max_game_loss).astype(int)\n",
    "\n",
    "    # Initialize counters for test ratings per user and game\n",
    "    test_per_user = np.zeros(n_users, dtype=int)\n",
    "    test_per_game = np.zeros(n_games, dtype=int)\n",
    "\n",
    "    # Create a random permutation of rating indices\n",
    "    rating_indices = np.random.permutation(n_ratings)\n",
    "\n",
    "    # Initialize train and test masks\n",
    "    train_mask = np.ones(n_ratings, dtype=bool)\n",
    "    test_mask = np.zeros(n_ratings, dtype=bool)\n",
    "\n",
    "    # Target number of test ratings\n",
    "    n_test_target = int(test_size * n_ratings)\n",
    "    n_test_selected = 0\n",
    "\n",
    "    # Iterate through ratings in random order\n",
    "    for idx in rating_indices:\n",
    "        user = coo_matrix.row[idx]\n",
    "        game = coo_matrix.col[idx]\n",
    "\n",
    "        # Check if we can add this rating to test set without violating constraints\n",
    "        if (test_per_user[user] < max_test_per_user[user] and\n",
    "            test_per_game[game] < max_test_per_game[game] and\n",
    "            n_test_selected < n_test_target):\n",
    "\n",
    "            # Add to test set\n",
    "            train_mask[idx] = False\n",
    "            test_mask[idx] = True\n",
    "\n",
    "            # Update counters\n",
    "            test_per_user[user] += 1\n",
    "            test_per_game[game] += 1\n",
    "            n_test_selected += 1\n",
    "\n",
    "    # Create train and test matrices\n",
    "    train_matrix = csr_matrix(\n",
    "        (coo_matrix.data[train_mask],\n",
    "         (coo_matrix.row[train_mask], coo_matrix.col[train_mask])),\n",
    "        shape=sparse_matrix.shape\n",
    "    )\n",
    "\n",
    "    test_matrix = csr_matrix(\n",
    "        (coo_matrix.data[test_mask],\n",
    "         (coo_matrix.row[test_mask], coo_matrix.col[test_mask])),\n",
    "        shape=sparse_matrix.shape\n",
    "    )\n",
    "\n",
    "    # Print statistics\n",
    "    print(f\"Split complete: {n_test_selected} ratings ({n_test_selected/n_ratings:.2%}) in test set\")\n",
    "    print(f\"Train set: {train_matrix.nnz} ratings, Test set: {test_matrix.nnz} ratings\")\n",
    "\n",
    "    # Check if any users or games lost too many ratings\n",
    "    users_with_ratings = np.where(user_ratings > 0)[0]\n",
    "    games_with_ratings = np.where(game_ratings > 0)[0]\n",
    "\n",
    "    max_user_loss_actual = np.max(test_per_user[users_with_ratings] / user_ratings[users_with_ratings])\n",
    "    max_game_loss_actual = np.max(test_per_game[games_with_ratings] / game_ratings[games_with_ratings])\n",
    "\n",
    "    print(f\"Maximum user ratings loss: {max_user_loss_actual:.2%}\")\n",
    "    print(f\"Maximum game ratings loss: {max_game_loss_actual:.2%}\")\n",
    "\n",
    "    return train_matrix, test_matrix, train_mask, test_mask\n",
    "\n",
    "##################################################################################################################################################################\n",
    "\n",
    "#Baseline models\n",
    "\n",
    "\n",
    "# Model 1: Global Mean Baseline\n",
    "def global_mean_baseline(train_matrix,test_matrix):\n",
    "    \"\"\"Simplest baseline: predict global mean rating for all users and items\"\"\"\n",
    "    global_mean = train_matrix.data.mean()\n",
    "    test_rows, test_cols = test_matrix.nonzero()\n",
    "\n",
    "    # For evaluating on test data\n",
    "    predictions = np.full_like(test_matrix.data, global_mean)\n",
    "\n",
    "    rmse = np.sqrt(mean_squared_error(predictions, test_matrix.data))\n",
    "    mae = mean_absolute_error(predictions, test_matrix.data)\n",
    "    r2 = r2_score(predictions, test_matrix.data)\n",
    "\n",
    "    print(f\"Global Mean Baseline: RMSE = {rmse:.4f}, MAE = {mae:.4f}\")\n",
    "    return global_mean, rmse, mae , r2\n",
    "\n",
    "\n",
    "# Model 2: User Mean Baseline\n",
    "def user_mean_baseline(train_matrix, test_matrix):\n",
    "    # Get user means from training data\n",
    "    n_users = train_matrix.shape[0]\n",
    "    test_rows, test_cols = test_matrix.nonzero()\n",
    "\n",
    "    # Calculate mean rating for each user (row)\n",
    "    user_means = np.zeros(n_users)\n",
    "    for u in range(n_users):\n",
    "        row = train_matrix.getrow(u)\n",
    "        if row.nnz > 0:  # If user has any ratings\n",
    "            user_means[u] = row.data.mean()\n",
    "\n",
    "    # Make sure test_rows values are within bounds\n",
    "    valid_indices = [i for i, row in enumerate(test_rows) if row < n_users]\n",
    "\n",
    "    if len(valid_indices) < len(test_rows):\n",
    "        print(f\"Warning: {len(test_rows) - len(valid_indices)} test entries had out-of-bounds user indices\")\n",
    "\n",
    "    # Use only valid indices\n",
    "    test_rows_valid = test_rows[valid_indices]\n",
    "    test_cols_valid = test_cols[valid_indices]\n",
    "    test_data_valid = test_matrix.data[valid_indices]\n",
    "\n",
    "    # Make predictions for test data\n",
    "    predictions = np.array([user_means[row] for row in test_rows_valid])\n",
    "\n",
    "    # Ensure predictions and test data have same length\n",
    "    assert len(predictions) == len(test_data_valid), \"Predictions and test data must have same length\"\n",
    "\n",
    "    rmse = np.sqrt(mean_squared_error(predictions, test_data_valid))\n",
    "    mae = mean_absolute_error(predictions, test_data_valid)\n",
    "    r2 = r2_score(predictions,test_data_valid )\n",
    "\n",
    "    print(f\"User Mean Baseline: RMSE = {rmse:.4f}, MAE = {mae:.4f}\")\n",
    "    return user_means, rmse, mae, r2\n",
    "\n",
    "# Model 3: Game Mean Baseline\n",
    "def item_mean_baseline(train_matrix, test_matrix):\n",
    "    # Calculate mean rating for each item/game (column)\n",
    "    n_items = train_matrix.shape[1]\n",
    "    item_means = np.zeros(n_items)\n",
    "    test_rows, test_cols = test_matrix.nonzero()\n",
    "\n",
    "    # Get mean of each column (item), accounting for sparsity\n",
    "    for i in range(n_items):\n",
    "        col = train_matrix.getcol(i)\n",
    "        if col.nnz > 0:  # If item has any ratings\n",
    "            item_means[i] = col.data.mean()\n",
    "\n",
    "    # Make sure test_cols values are within bounds\n",
    "    valid_indices = [i for i, col in enumerate(test_cols) if col < n_items]\n",
    "\n",
    "    if len(valid_indices) < len(test_cols):\n",
    "        print(f\"Warning: {len(test_cols) - len(valid_indices)} test entries had out-of-bounds item indices\")\n",
    "\n",
    "    # Use only valid indices\n",
    "    test_rows_valid = test_rows[valid_indices]\n",
    "    test_cols_valid = test_cols[valid_indices]\n",
    "    test_data_valid = test_matrix.data[valid_indices]\n",
    "\n",
    "    # Make predictions for test data\n",
    "    predictions = np.array([item_means[col] for col in test_cols_valid])\n",
    "\n",
    "    # Ensure predictions and test data have same length\n",
    "    assert len(predictions) == len(test_data_valid), \"Predictions and test data must have same length\"\n",
    "\n",
    "    rmse = np.sqrt(mean_squared_error(predictions, test_data_valid))\n",
    "    mae = mean_absolute_error(predictions, test_data_valid)\n",
    "    r2 = r2_score(predictions, test_data_valid)\n",
    "\n",
    "    print(f\"Item Mean Baseline: RMSE = {rmse:.4f}, MAE = {mae:.4f}\")\n",
    "    return item_means, rmse, mae, r2"
   ]
  },
  {
   "cell_type": "code",
   "execution_count": 37,
   "metadata": {},
   "outputs": [],
   "source": [
    "pdAvis['review_length'] = pdAvis['comment'].str.len()\n",
    "pdAvis=pdAvis[pdAvis[\"review_length\"] != 58097.0]\n",
    "\n",
    "#Duplicates removable\n",
    "pdAvis.drop_duplicates(subset=['author','title_review','note','title','comment'], inplace=True)\n",
    "pdJeux.drop_duplicates(subset=['title',\t'href','avis'], inplace=True)\n",
    "\n",
    "\n",
    "allgames = sorted(pdJeux[\"title\"].unique())\n",
    "allusers = sorted(pdAvis['author'].unique())\n",
    "\n",
    "\n",
    "# Création de la dataFrame\n",
    "ratings_matrix = pd.DataFrame(\n",
    "    index=allusers,\n",
    "    columns=allgames,\n",
    "    dtype=float\n",
    ")\n",
    "\n",
    "# Remplissage de la matrice avec les notes\n",
    "for _, row in pdAvis.iterrows():\n",
    "    ratings_matrix.at[row['author'], row['title']] = row['note']\n",
    "\n",
    "# Conversion en matrice sparse\n",
    "mask = ~ratings_matrix.isna()\n",
    "sparse_ratings_matrix = csr_matrix(\n",
    "    (\n",
    "        ratings_matrix.values[mask],\n",
    "        np.where(mask)\n",
    "    ),\n",
    "    shape=ratings_matrix.shape\n",
    ")\n",
    "\n",
    "# Remove users and games with with low numbers of ratings the optimal value found was (14,18)\n",
    "cleaned_matrix = minipingpong(sparse_ratings_matrix, allusers, allgames, 14, 18)"
   ]
  },
  {
   "cell_type": "code",
   "execution_count": 38,
   "metadata": {},
   "outputs": [
    {
     "name": "stdout",
     "output_type": "stream",
     "text": [
      "Computing the pearson similarity matrix...\n",
      "Done computing similarity matrix.\n",
      "Computing the pearson similarity matrix...\n",
      "Done computing similarity matrix.\n",
      "RMSE: 1.9802\n",
      "MAE:  1.5614\n",
      "RMSE: 1.9047\n",
      "MAE:  1.4755\n"
     ]
    }
   ],
   "source": [
    "# Convert the cleaned_matrix data to Surprise format\n",
    "ratings_list = []\n",
    "for i, j in zip(*cleaned_matrix.nonzero()):\n",
    "    user = allusers[i]\n",
    "    game = allgames[j]\n",
    "    rating = cleaned_matrix[i, j]\n",
    "    ratings_list.append((user, game, rating))\n",
    "\n",
    "\n",
    "ratings_df = pd.DataFrame(ratings_list, columns=['userID', 'itemID', 'rating'])\n",
    "\n",
    "# Define the reader with appropriate rating scale\n",
    "reader = Reader(rating_scale=(0, 10))\n",
    "\n",
    "# Create a Surprise dataset\n",
    "data = Dataset.load_from_df(ratings_df, reader)\n",
    "trainset, testset = surprise_train_test_split(data, test_size=0.2, random_state=42)\n",
    "\n",
    "\n",
    "\n",
    "knn_basic = KNNBasic(k=50, sim_options={'name': 'pearson', 'user_based': True}) # After testing 40 was the best k neighbors found\n",
    "knn_means = KNNWithMeans(k=50, sim_options={'name': 'pearson', 'user_based': True})\n",
    "\n",
    "\n",
    "knn_basic.fit(trainset)\n",
    "knn_means.fit(trainset)\n",
    "\n",
    "\n",
    "preds_basic = knn_basic.test(testset)\n",
    "preds_means = knn_means.test(testset)\n",
    "\n",
    "rmse_knn_basic = accuracy.rmse(preds_basic)\n",
    "mae_knn_basic = accuracy.mae(preds_basic)\n",
    "rmse_knn_means = accuracy.rmse(preds_means)\n",
    "mae_knn_means = accuracy.mae(preds_means)\n",
    "y_true = [pred.r_ui for pred in preds_basic]\n",
    "y_pred_basic = [pred.est for pred in preds_basic]\n",
    "y_pred_means = [pred.est for pred in preds_means]\n",
    "r2_knn_basic = r2_score(y_true, y_pred_basic)\n",
    "r2_knn_means = r2_score(y_true, y_pred_means)\n",
    "\n",
    "\n",
    "knn_results = pd.DataFrame({\n",
    "    'Model': ['KNNBasic (Suprise)', 'KNNWithMeans (Suprise)'],\n",
    "    'RMSE': [rmse_knn_basic, rmse_knn_means],\n",
    "    'MAE': [mae_knn_basic, mae_knn_means],\n",
    "    'R2 score': [r2_knn_basic, r2_knn_means]\n",
    "})\n",
    "\n",
    "# Combine with previous results\n",
    "results = knn_results"
   ]
  },
  {
   "cell_type": "markdown",
   "metadata": {},
   "source": [
    "**j'ai fait juste cette fonction pour retourner les top predictions pour chaque utilisateurs (on pourrait juste ajouter cette fonction dans l'autre fichier de la partie knn**"
   ]
  },
  {
   "cell_type": "code",
   "execution_count": 71,
   "metadata": {},
   "outputs": [],
   "source": [
    "def get_top_n_predictions(predictions, n=10):\n",
    "    \"\"\"\n",
    "    Return the top-N recommended items for each user from a set of predictions.\n",
    "    \"\"\"\n",
    "\n",
    "    # First map the predictions to each user.\n",
    "    top_n = {}\n",
    "    for uid, iid, true_r, est, _ in predictions:\n",
    "        if uid not in top_n:\n",
    "            top_n[uid] = []\n",
    "        top_n[uid].append((iid, est))\n",
    "\n",
    "    # Then sort the predictions for each user and retrieve the N highest ones.\n",
    "    #on trie les items recommandés par note prédite (la plus élevée en premier) et on garde les n premiers jeux.\n",
    "    for uid, user_ratings in top_n.items():\n",
    "        user_ratings.sort(key=lambda x: x[1], reverse=True)\n",
    "        top_n[uid] = user_ratings[:n]\n",
    "\n",
    "    return top_n"
   ]
  },
  {
   "cell_type": "code",
   "execution_count": 125,
   "metadata": {},
   "outputs": [],
   "source": [
    "top_n = get_top_n_predictions(preds_means, n=5)"
   ]
  },
  {
   "cell_type": "code",
   "execution_count": 126,
   "metadata": {},
   "outputs": [
    {
     "name": "stdout",
     "output_type": "stream",
     "text": [
      "Recommendations for user Bloublou: ['Aladdin et le tapis volant', 'ASL : Starter Kit  #3', 'Antagon', 'Apache']\n",
      "Recommendations for user GrayVice: ['Aladin', 'Bataille corse', 'Austerlitz 1805 - Partie Sud', 'Batameuh', 'Babylon 5 Component Game System : Core Sets']\n",
      "Recommendations for user Dedal: [\"Batt'l Kha'os\", 'A Touch of Evil : The Allies', 'Bataflash', 'Battletech Technical Readout 3050', 'Battle-cry']\n",
      "Recommendations for user Amarante: ['Atlantis Rising', 'A4', 'Banking', 'Age of Steam : Expansions France & Italy', 'Atlanteon']\n",
      "Recommendations for user Geoff: ['Airpoly', 'African Queen', 'Banana Jump', '7 Fallen', 'Badaboum !']\n",
      "Recommendations for user CCCP: ['Atlantis Rising', '7 wonders : Louis', 'Arche Extra Mix', 'Army of Darkness Card Game : Hail to the King', 'Barbarians of Lemuria']\n",
      "Recommendations for user Bubu_: ['ASL : Croix de Guerre', 'ASL : Kampfgruppe Peiper II', 'Alsace', \"Age of Empires III : L'âge des découvertes\", 'Aspern-Essling']\n",
      "Recommendations for user GweG: ['Avis de Tempête', 'Agricola Family Edition', '3:16 Carnage dans les étoiles', 'Annalise', 'Ancient Conquest']\n",
      "Recommendations for user BilboLeFou: ['A Touch of Evil : The Allies', \"Batt'l Kha'os\", 'Axis and Allies', 'Battlestar Galactica : Exodus', 'Anachrony - Exosuit Commander Pack']\n",
      "Recommendations for user Ephora: ['Banana Slap', 'Age of Steam : Expansion Maps', 'Achtung - Spitfire!', 'Adventures in Austerion', 'Arkham Horror : Investigator Pack Harvey Walters Jenny Barnes']\n",
      "Recommendations for user GDB: [\"As'Truc\", 'Archon', 'Anomaly', 'Battleground : Double Attack 2', 'Abenteuer Menschheit']\n",
      "Recommendations for user Glakus: ['Axom', 'ASL : Valor of the Guards', 'Age of Steam Expansion : California Gold Rush - Underground Railroad', 'Air Cav', 'Ascowt']\n",
      "Recommendations for user Alix: ['Ascension at Firepeak', 'Bastogne', 'Australian Rails', 'Bataille sous les mers', \"Anima - L'Ombre d'Omega\"]\n",
      "Recommendations for user Glirhuin: ['Age of Steam Expansion: Secret Blueprints of Steam Plan 3', 'Atlantic Storm', 'A4', 'Banda', 'Astérix et la Potion Magique']\n",
      "Recommendations for user Astillosternus: ['Agricola Big Box 2 joueurs - Les Fermiers de la Lande', 'Battletech Technical Readout 3026', 'Altamira', 'Arcanum', 'Allo...la France']\n",
      "Recommendations for user Babylon06400: ['Algeria', '1, 2, 3... Comptez !', 'Auction', 'A4', 'AlphaPoker']\n",
      "Recommendations for user DecapeetdeCrocs: ['Bataflash', 'Babylon 5 Component Game System : Core Sets', '1, 2, 3, Hop là !', 'Armadas', '7 Fallen']\n",
      "Recommendations for user Douchka: ['Bataille corse', 'Across Suez', 'Axis & Allies Miniatures : Reserves', 'Assassin', 'A World at War']\n",
      "Recommendations for user GromJay: ['Alien Hive Puzzle', 'Bambino Solo']\n",
      "Recommendations for user GToon: ['Battle For China', 'Arcane Master', 'Aux Portes de Loyang', 'Battletech Technical Readout 3050', 'Act One']\n"
     ]
    }
   ],
   "source": [
    "# Print the recommended items for the first couple of users\n",
    "first_couple_users = list(top_n.keys())[:20]  # Adjust the number to select the first N users\n",
    "\n",
    "for uid in first_couple_users:\n",
    "    user_ratings = top_n[uid]\n",
    "    print(f\"Recommendations for user {uid}: {[iid for (iid, _) in user_ratings]}\")"
   ]
  },
  {
   "cell_type": "markdown",
   "metadata": {},
   "source": [
    "# **extraire pour un jeu (Shogun) et un utilisateur (sheewi) ses voisins et leurs comentaires**"
   ]
  },
  {
   "cell_type": "code",
   "execution_count": null,
   "metadata": {},
   "outputs": [],
   "source": [
    "def filter_comments_by_word_count(comments, min_word_count):\n",
    "    \"\"\"\n",
    "    Filters a list of comments to include only those with a word count greater or equal to min_word_count.\n",
    "    \n",
    "    Args:\n",
    "    comments (list of str): A list of comments.\n",
    "    min_word_count (int): The minimum number of words required for a comment to be included in the return list.\n",
    "    \n",
    "    Returns:\n",
    "    list of str: A list containing only comments that meet or exceed the word count requirement.\n",
    "    \"\"\"\n",
    "    # Filter comments based on word count\n",
    "    filtered_comments = [comment for comment in comments if len(comment.split()) >= min_word_count]\n",
    "    return filtered_comments"
   ]
  },
  {
   "cell_type": "code",
   "execution_count": null,
   "metadata": {},
   "outputs": [],
   "source": [
    "def get_top_comments(user_id, game_title, N, word_count_threshold):\n",
    "    \"\"\"\n",
    "    Retrieves the top N comments from the nearest neighbors of a specified user about a specific game,\n",
    "    using the KNNWithZScore algorithm from Surprise. Only comments with a word count above a certain threshold are considered.\n",
    "    Expands the search if initial neighbors have not commented on the game. Includes the rank of each commenting user based on proximity.\n",
    "\n",
    "    Args:\n",
    "    user_id (str): The user ID of the interested user.\n",
    "    game_title (str): The title of the game for which comments are being retrieved.\n",
    "    N (int): The number of top comments to return based on relevance.\n",
    "    word_count_threshold (int): The minimum number of words required for comments to be considered.\n",
    "\n",
    "    Returns:\n",
    "    list of tuples: A list containing tuples of (rank, author, comment) if available, or a status message.\n",
    "    \"\"\"\n",
    "    try:\n",
    "        # Retrieve inner ID of the user\n",
    "        user_inner_id = trainset.to_inner_uid(user_id)\n",
    "    except ValueError:\n",
    "        return f\"No data available for the user ID '{user_id}'.\"\n",
    "\n",
    "    try:\n",
    "        # Retrieve inner ID of the game\n",
    "        game_inner_id = trainset.to_inner_iid(game_title)\n",
    "    except ValueError:\n",
    "        return f\"No data available for the game '{game_title}'.\"\n",
    "\n",
    "    # Initialize variables for searching neighbors and tracking unique comments\n",
    "    k = 20\n",
    "    max_neighbors = trainset.n_users  # Maximum possible neighbors\n",
    "    found_comments = []\n",
    "    processed_neighbor_ids = set()  # Set to track processed neighbors\n",
    "\n",
    "    # Retrieve neighbors and expand search until enough comments are found or all users are checked\n",
    "    while len(found_comments) < N and k <= max_neighbors:\n",
    "        # Retrieve the k nearest neighbors of the user\n",
    "        neighbors = algo.get_neighbors(user_inner_id, k=k)\n",
    "        # Convert inner IDs of the neighbors back to raw IDs and store with ranks\n",
    "        neighbors_with_ranks = [(rank + 1, trainset.to_raw_uid(inner_id)) for rank, inner_id in enumerate(neighbors) if trainset.to_raw_uid(inner_id) not in processed_neighbor_ids]\n",
    "\n",
    "        # Filter the dataset to find the neighbors who have rated the specified game\n",
    "        for rank, neighbor_id in neighbors_with_ranks:\n",
    "            if neighbor_id not in processed_neighbor_ids:\n",
    "                processed_neighbor_ids.add(neighbor_id)\n",
    "                neighbor_comments = data_cleaned[(data_cleaned['author'] == neighbor_id) & (data_cleaned['title'] == game_title)]\n",
    "                # Apply enhanced word count filter\n",
    "                valid_comments = filter_comments_by_word_count(neighbor_comments['comment'].tolist(), word_count_threshold)\n",
    "                for comment in valid_comments:\n",
    "                    found_comments.append((rank, neighbor_id, comment))\n",
    "\n",
    "        # Increase the number of neighbors for the next iteration if necessary\n",
    "        k += 20\n",
    "\n",
    "    # If comments are found, sort them by length and return the top N\n",
    "    if found_comments:\n",
    "        found_comments.sort(key=lambda x: len(x[2]), reverse=True)  # Sort by comment length\n",
    "        return found_comments[:N]\n",
    "    else:\n",
    "        return f\"No comments found for the game '{game_title}' from nearest neighbors that meet the word threshold.\""
   ]
  },
  {
   "cell_type": "code",
   "execution_count": 361,
   "metadata": {},
   "outputs": [],
   "source": [
    "jeu = \"Shogun\"\n",
    "utilisateur = \"sheewi\""
   ]
  },
  {
   "cell_type": "code",
   "execution_count": 267,
   "metadata": {},
   "outputs": [
    {
     "name": "stdout",
     "output_type": "stream",
     "text": [
      "Computing the pearson similarity matrix...\n",
      "Done computing similarity matrix.\n"
     ]
    }
   ],
   "source": [
    "#from surprise.prediction_algorithms.knns import KNNWithZScore\n",
    "\n",
    "reader = Reader(rating_scale=(1, 10))  # Assuming rating scale is from 1 to 10\n",
    "dataa = Dataset.load_from_df(pdAvis[['author', 'title', 'note']], reader)\n",
    "trainset2 = dataa.build_full_trainset()\n",
    "knn_means = KNNWithMeans(sim_options={'name': 'pearson', 'user_based': True}, k=50, min_k=1)\n",
    "knn_means.fit(trainset2)\n",
    "\n",
    "def get_neighbors(user_name, game_title, k=50):\n",
    "    # Retrieve inner ID of the user\n",
    "    user_inner_id = trainset2.to_inner_uid(user_name)\n",
    "    \n",
    "    # Retrieve inner ID of the game\n",
    "    try:\n",
    "        game_inner_id = trainset2.to_inner_iid(game_title)\n",
    "    except ValueError:\n",
    "        return f\"No data available for the game '{game_title}'.\"\n",
    "    \n",
    "    # Retrieve the k nearest neighbors of the user\n",
    "    neighbors = knn_means.get_neighbors(user_inner_id, k)\n",
    "    # Convert inner IDs of the neighbors back to raw IDs\n",
    "    neighbors_ids = [trainset2.to_raw_uid(inner_id) for inner_id in neighbors]\n",
    "    print(neighbors_ids)\n",
    "    # Filter the dataset to find the neighbors who have rated the specified game\n",
    "    filtered_comments = pdAvis[(pdAvis['author'].isin(neighbors_ids)) & (pdAvis['title'] == game_title)]\n",
    "    print(\"Nombre de voisins ayant commenté ce jeu :\", len(filtered_comments))\n",
    "    \n",
    "    \n",
    "    # Collect and return usernames and their comments on the specified game\n",
    "    return filtered_comments[['author', 'note', 'comment']].values.tolist()"
   ]
  },
  {
   "cell_type": "code",
   "execution_count": 363,
   "metadata": {},
   "outputs": [
    {
     "name": "stdout",
     "output_type": "stream",
     "text": [
      "['Yzarc', 'limp', 'ijonesjeux', 'morlockbob', 'Pac', 'PtitJu', 'cmsy', 'samuel2277', 'Sicander vincit', 'PROPHETTE', 'pepetteuh', 'Atanaheim', 'rugal', 'starvince', 'voxmetalis', 'RickyPimous', 'serraangel', 'Monsieur Guillaume', 'SwatSh', 'prunelles', 'BSI40', 'kakawette', 'axelian73', 'MisTeR ToON', 'Lilly', 'letroyenfou', 'Tostaky37', 'Empédocle', 'lenantaisdemontelimar', 'AtomChris', 'Ricardo31', 'Player One', 'expliquemoica', 'koala von koala', 'Madame Mathilde', 'Antoinette', 'le.meeple.jaune', 'grotesk', 'Jones', 'bunnypookah', 'Greta', 'Hagrael', 'zeibacker', 'boscouzareix', 'John Lénine', 'AkoaTujou', 'PapaJeux', 'El Lorenzo207', 'plumesdanges', 'Didi5962']\n",
      "Nombre de voisins ayant commenté ce jeu : 12\n"
     ]
    }
   ],
   "source": [
    "neighbors_comments = get_neighbors(utilisateur, jeu, k=50)"
   ]
  },
  {
   "cell_type": "code",
   "execution_count": 364,
   "metadata": {},
   "outputs": [
    {
     "name": "stdout",
     "output_type": "stream",
     "text": [
      "['PtitJu', 8.0, 'Les + :Le matériel (dont un plateau réversible)Le principe de la tourRiches des mécanismes (ordre du tour, programmation (avec connaissance des 5 premières actions jouées), résolution des combats (la tour), révolte, gestion de ses provinces, ses coffres et du riz, …)Les - : Erreurs dans la règle en françaisMise en place un peu longue (et pas sur n’importe quelle table !)Seulement 6 tours mais 2 heures quand mêmeDonc : Je préfère le hasard de la tour de Shogun aux lancers de dés d’Invasions.En tout cas, on ne voit pas le temps passer.']\n",
      "\n",
      "['limp', 8.0, \"Difficile de trancher vraiment sur ce jeu, quoi que, je m'y essaie.Shogun est un très bon jeu, c'est indéniable.Shogun n'est pas aussi compliqué qu'il y parait non plus. Pour autant, il est riche, et les choix à faire seront nombreux.Le hasard des combats est une véritable trouvaille, aussi bien dans la réalisation de la tour que dans le mécanisme lui-même. Ca permettra d'ajouter du fun et un peu de tension aux parties.On peut aussi trouver le jeu méchant, puisqu'il s'agit d'un jeu de conquête, et si on essaiera de taper sur ceux en tête, une zone faible, même d'un joueur peu dangereux sera toujours tentante si elle reste à portée de main.Le seul point noir du jeu réside qu'au final, il est très long et que dans le genre El Grande, plus riche et contrôlable (mais sans ce hasard/fun) est bien plus réussi et facile à sortir.Shogun restera donc pour moi un très bon jeu mais auquel je risque chaque fois de préférer un autre plus profond et plus court, quel qu'il soit.Dommage pour ce jeu et ses qualités...\"]\n",
      "\n",
      "['ijonesjeux', 8.0, \"Salut à tous,Aille, difficile, j'ai l'impression de noter un jeu comme Mission Planète Rouge.Le jeu, d'abord, GENIAL. Dommage qu'il soit un peu long, mais le jeu est une des grandes merveilles du jeu. J'ADORE, vraiment super bien, et les dessins sont parfait aussi.Mais le Matos, ARG :(Cata, les cartons se gondolent (a Venise), les cartes aussi, puis, la boite pas simple à déplacer car si elle ne reste pas à plat, tout bouge dedans. Puis, mince, elle est trop petite cette boite, le couvercle ferme mal :'(Pourtant, il est très beau, c'est peut être ce qui me fait pester autant :(Le coup de la tour est génial, comme le coup des soulèvements qui oblige à se battre sur plusieurs fronts.Donc, ce jeu DOIT être dans votre ludothèque, ça, c'est certain :)Je ne lui mets pas 5 juste à cause de son Matériel. Mais avec du bon matos, il vaudrait au moins 8 ou 10 :)stef\"]\n",
      "\n",
      "['SwatSh', 10.0, \"Variante donc de Wallestein.Toujours aussi bon avec la tour qui a un plus joli & plus solide matos.Pour moi un des meilleurs jeux de combat puisqu'il allie subtilement combat et gestion.Et puis ces paysants qui se révoltent pour un rien! Ben quoi, on leur prend un peu de riz, un peu d'impôts et ils sont pas contents alors qu'on les défend!! Non mais!\"]\n",
      "\n",
      "['Pac', 8.0, '\"Shogun\", la réédition du fameux \"Wallenstein\", nous est proposé dans la version très grosse boite de chez « Queen Games » avec dedans bien évidement la fameuse tour de combat qui a contribué à faire sortir ce jeu du rang.Nous avons en dehors de l\\'originale tour de combat, un excellent jeu de stratégie ce qui devrait logiquement conférer au jeu des appréciations stratosphériques de joueurs.Globalement, si vous êtes amateur de jeux de stratégie qui ressemblent à un wargame mais qui n\\'en sont pas, si de jouer pendant prêt de trois heures n\\'est pas un problème, et si vous avez une indicible envie de balancer des petits cubes dans cette sympathique tour de combat, et bien \"Shogun\" est un must à avoir absolument dans sa ludothèque.Sinon, si vous n\\'aimez pas les explications de règles qui durent une heure, ni devoir faire une première partie d\\'initiation avant de commencer à voir les stratégies possibles, alors fuyez pauvres fous !Mais, dans tous les cas, le matériel et le jeu sont des bijoux d\\'esthétisme, ne serait ce que pour le coté un peu plus accrocheur du Japon médiéval devant la teutonique et méconnue guerre du jeu d\\'origine. Mais, dans tous les cas, la règle française est à revoir (voire à bruler). Il n\\'est en effet pas acceptable de laisser d\\'énorme coquilles, erreurs et imprécisions dans les règles d\\'un jeu déjà assez complexe.Au final, les erreurs dans la rédaction des règles disqualifient pour moi \"Shogun\" de la note de 5. Dommage, ce n\\'est pas passé loin. Allez, on dit 4,5 ;o)']\n",
      "\n",
      "['samuel2277', 10.0, \"Le matériel est beau : rien à dire...On retrouve un peu le côté Risk avec des combats, originalement traités par la fameuse tour ici. Très intéressant, notamment le fait que des pions puissent ressortir pour venir influencer le combat suivant!La gestion et de ses ressources et de sa stratégie est intéressante, d'autant qu'elle est également soumise à quelques aléas : choix simultanés des joueurs, actions 6 à 10 initialement inconnues, etc...Un vrai bon jeu!Principalement testé à 3 joueurs pour le moment : il me faudra recruter pour jouer à plus...\"]\n",
      "\n",
      "['cmsy', 8.0, 'Bon jeu de planification. Des mécanismes originaux, tour à cube, cubes paysans, planification des actions par rapport au région mais il lui manque quelque chose pour que ça soit un coup de cœur.']\n",
      "\n",
      "['Yzarc', 6.0, 'Les + :La qualité du matérielLa tour qui \"innove\" dans l\\'aléaDes actions simultanées et d\\'autres dans un ordre chronologiqueUn renouveau à chaque tour avec l\\'ordre des bonus et des actionsLe système de placement initialLes - :Chaque action ne sera faite que 6 fois maximum. Se déplacer que 6 fois pour faire tout le pays et attaquer un autre joueur à l\\'autre bout du plateau = Irréalisable. Construire que 6 fois maximum un type de bâtiment et tenter devenir majoritaire avecDes forces qui restent dans la coupelle appartenant à un joueur peuvent aidés lors d\\'un combat l\\'impliquant. Il a donc ses forces + le bonus de la coupelleBeaucoup trop long pour ce que l\\'on faitLe placement du départ peut créer un réel avantage[*]Système de point de majorité à double temps sur fond de guerre, c\\'est mi-figue, mi-raisin.']\n",
      "\n",
      "['RickyPimous', 10.0, \"Excellent jeu de conquête où l'on se prendra la tête de longues minutes lors de la programmation de tour tellement il y a de possibilité différente. La tour apporte un certain chaos mais hormis les première batailles (là il faut absolument ré-équilibré la règle), les résultats ont toujours été logique et pas si différent que si on avait utiliser des dés. Reste que les parties sont assez longues et qu'on se faire +/- éliminer ce qui est moins tout de suite moins drôle.\"]\n",
      "\n",
      "['PROPHETTE', 10.0, \"Voilà un jeux ou il faut autant faire de la gestion,du placement avec majorité, de la conquête.vraiment un très bon jeux que l'on a jouer avec ma petite femme elle a adorer. je trouve que le contexte du japon ressort bien avec ses paysants qui se révoltent et qu'il faut approvisioné avec du riz. Autant ce jeux et calculatoire mais le thème y est très présent.Les battaillent sont équillibrée par cette fameuse tour. Si une fois vous perdez la fois d'après ces vous qui gagné. Il y a une forme d'investissement de vos force dans cette tour que l'on ne retrouve pas dans les dés. EXELLENTS\"]\n",
      "\n",
      "['Sicander vincit', 10.0, \"+ de 25 partiesShogun reprend les mécanismes de Wallenstein en transférant de façon très réussie le système dans le japon du XVIè (ce n'est plus vraiment médiéval donc).C'est un des meilleurs jeu d'affontement/conquête que je connaisse. Le mécanisme est simple (même si les règles sont traduites par le traducteur google ou ma grand mère ce qui n'est guère mieux), le jeu privilégie les jeux stratégiques (mieux vaut réfléchir sur le mode de l'anticipation que sur celui de la réaction) et le gagnant est fréquement le joueur qui a le mieux joué, ce qui n'est pas systématique ailleurs.J'avoue savourer la tour comme une cerise sur le gateau... Cela crée une ambiance super (avec une pression inimitable dans un lancer de dés).Bref, j'adore et j'y joue très, très souvent et je ne regrette jamais en cours de route. Y compris quand ces ingrats de paysans se révoltent !C'est long mais ça passe très vite :)\"]\n",
      "\n",
      "['RickyPimous', 8.0, \"Encore un jeu magique de mon enfance. J'était fasciné par ce système qui fait changer le chiffre de son pion. Bon c'est vrai, maintenant on fait même des truc avec des lasers...\"]\n",
      "\n"
     ]
    }
   ],
   "source": [
    "for cmt in neighbors_comments:\n",
    "    print(cmt)\n",
    "    print()"
   ]
  },
  {
   "cell_type": "code",
   "execution_count": 256,
   "metadata": {},
   "outputs": [
    {
     "data": {
      "text/plain": [
       "title\n",
       "Shogun                                  166\n",
       "Carcassonne - Die Jäger und Sammler     150\n",
       "ARENA - Roma II                         148\n",
       "La Città                                148\n",
       "Jeu de Cochons                          148\n",
       "                                       ... \n",
       "Kapitän Wackelpudding                     2\n",
       "Dobble Beach                              2\n",
       "Haut les cubes !                          2\n",
       "Voldétour extension                       2\n",
       "Last Night On Earth : Zombie Pillage      2\n",
       "Name: count, Length: 7653, dtype: int64"
      ]
     },
     "execution_count": 256,
     "metadata": {},
     "output_type": "execute_result"
    }
   ],
   "source": [
    "pdAvis[\"title\"].value_counts()"
   ]
  },
  {
   "cell_type": "code",
   "execution_count": 369,
   "metadata": {},
   "outputs": [
    {
     "data": {
      "text/html": [
       "<div>\n",
       "<style scoped>\n",
       "    .dataframe tbody tr th:only-of-type {\n",
       "        vertical-align: middle;\n",
       "    }\n",
       "\n",
       "    .dataframe tbody tr th {\n",
       "        vertical-align: top;\n",
       "    }\n",
       "\n",
       "    .dataframe thead th {\n",
       "        text-align: right;\n",
       "    }\n",
       "</style>\n",
       "<table border=\"1\" class=\"dataframe\">\n",
       "  <thead>\n",
       "    <tr style=\"text-align: right;\">\n",
       "      <th></th>\n",
       "      <th>_id</th>\n",
       "      <th>author</th>\n",
       "      <th>date_published</th>\n",
       "      <th>title_review</th>\n",
       "      <th>note</th>\n",
       "      <th>review_href</th>\n",
       "      <th>title</th>\n",
       "      <th>url</th>\n",
       "      <th>treated</th>\n",
       "      <th>comment</th>\n",
       "      <th>review_length</th>\n",
       "    </tr>\n",
       "  </thead>\n",
       "  <tbody>\n",
       "    <tr>\n",
       "      <th>200018</th>\n",
       "      <td>63c67f37993b727dc2aa5a47</td>\n",
       "      <td>PtitJu</td>\n",
       "      <td>2008-01-22 12:28:48</td>\n",
       "      <td>J’ai un faible pour le pays du soleil levant</td>\n",
       "      <td>8.0</td>\n",
       "      <td>https://www.trictrac.net/avis/j-ai-un-faible-p...</td>\n",
       "      <td>Shogun</td>\n",
       "      <td>https://www.trictrac.net/jeu-de-societe/shogun...</td>\n",
       "      <td>True</td>\n",
       "      <td>Les + :Le matériel (dont un plateau réversible...</td>\n",
       "      <td>539.0</td>\n",
       "    </tr>\n",
       "    <tr>\n",
       "      <th>200019</th>\n",
       "      <td>63c67f37993b727dc2aa5a48</td>\n",
       "      <td>Guyomar</td>\n",
       "      <td>2007-02-13 12:28:45</td>\n",
       "      <td>Mes paysans dans ma gueule...</td>\n",
       "      <td>10.0</td>\n",
       "      <td>https://www.trictrac.net/avis/mes-paysans-dans...</td>\n",
       "      <td>Shogun</td>\n",
       "      <td>https://www.trictrac.net/jeu-de-societe/shogun...</td>\n",
       "      <td>True</td>\n",
       "      <td>J'avais beaucoup apprécié Wallenstein et ce n'...</td>\n",
       "      <td>494.0</td>\n",
       "    </tr>\n",
       "    <tr>\n",
       "      <th>200020</th>\n",
       "      <td>63c67f37993b727dc2aa5a49</td>\n",
       "      <td>limp</td>\n",
       "      <td>2011-03-27 12:29:00</td>\n",
       "      <td>Espagne 1 Japon 0</td>\n",
       "      <td>8.0</td>\n",
       "      <td>https://www.trictrac.net/avis/espagne-1-japon-0</td>\n",
       "      <td>Shogun</td>\n",
       "      <td>https://www.trictrac.net/jeu-de-societe/shogun...</td>\n",
       "      <td>True</td>\n",
       "      <td>Difficile de trancher vraiment sur ce jeu, quo...</td>\n",
       "      <td>1016.0</td>\n",
       "    </tr>\n",
       "    <tr>\n",
       "      <th>200021</th>\n",
       "      <td>63c67f37993b727dc2aa5a4a</td>\n",
       "      <td>ybkam</td>\n",
       "      <td>2007-12-08 12:28:48</td>\n",
       "      <td>Soleil d'orient</td>\n",
       "      <td>10.0</td>\n",
       "      <td>https://www.trictrac.net/avis/soleil-d-orient</td>\n",
       "      <td>Shogun</td>\n",
       "      <td>https://www.trictrac.net/jeu-de-societe/shogun...</td>\n",
       "      <td>True</td>\n",
       "      <td>Bon, c'est une splendeur, un vrai plaisir à ch...</td>\n",
       "      <td>732.0</td>\n",
       "    </tr>\n",
       "    <tr>\n",
       "      <th>200022</th>\n",
       "      <td>63c67f37993b727dc2aa5a4b</td>\n",
       "      <td>Harry Cover</td>\n",
       "      <td>2010-09-17 12:28:57</td>\n",
       "      <td>Un jeu (de riz) complet !</td>\n",
       "      <td>10.0</td>\n",
       "      <td>https://www.trictrac.net/avis/un-jeu-de-riz-co...</td>\n",
       "      <td>Shogun</td>\n",
       "      <td>https://www.trictrac.net/jeu-de-societe/shogun...</td>\n",
       "      <td>True</td>\n",
       "      <td>Conquête, Combat, Développement, Programmation...</td>\n",
       "      <td>799.0</td>\n",
       "    </tr>\n",
       "    <tr>\n",
       "      <th>...</th>\n",
       "      <td>...</td>\n",
       "      <td>...</td>\n",
       "      <td>...</td>\n",
       "      <td>...</td>\n",
       "      <td>...</td>\n",
       "      <td>...</td>\n",
       "      <td>...</td>\n",
       "      <td>...</td>\n",
       "      <td>...</td>\n",
       "      <td>...</td>\n",
       "      <td>...</td>\n",
       "    </tr>\n",
       "    <tr>\n",
       "      <th>233256</th>\n",
       "      <td>63c682c8993b727dc2aadc1d</td>\n",
       "      <td>R2</td>\n",
       "      <td>2006-09-13 12:28:43</td>\n",
       "      <td>Oui mais...</td>\n",
       "      <td>6.0</td>\n",
       "      <td>https://www.trictrac.net/avis/oui-mais-43</td>\n",
       "      <td>Shogun</td>\n",
       "      <td>https://www.trictrac.net/jeu-de-societe/shogun...</td>\n",
       "      <td>True</td>\n",
       "      <td>J'aime les jeux avec du beau matériel qui débo...</td>\n",
       "      <td>1173.0</td>\n",
       "    </tr>\n",
       "    <tr>\n",
       "      <th>233257</th>\n",
       "      <td>63c682c8993b727dc2aadc1e</td>\n",
       "      <td>crashphil</td>\n",
       "      <td>2006-08-17 12:28:43</td>\n",
       "      <td>Un monstre très jouable</td>\n",
       "      <td>7.0</td>\n",
       "      <td>https://www.trictrac.net/avis/un-monstre-tres-...</td>\n",
       "      <td>Shogun</td>\n",
       "      <td>https://www.trictrac.net/jeu-de-societe/shogun...</td>\n",
       "      <td>True</td>\n",
       "      <td>J'ai acheté cette impressionnante boîte lors d...</td>\n",
       "      <td>774.0</td>\n",
       "    </tr>\n",
       "    <tr>\n",
       "      <th>233258</th>\n",
       "      <td>63c682c8993b727dc2aadc1f</td>\n",
       "      <td>zapata</td>\n",
       "      <td>2006-01-30 12:28:41</td>\n",
       "      <td>Honorable étranger...</td>\n",
       "      <td>6.0</td>\n",
       "      <td>https://www.trictrac.net/avis/honorable-etranger</td>\n",
       "      <td>Shogun</td>\n",
       "      <td>https://www.trictrac.net/jeu-de-societe/shogun...</td>\n",
       "      <td>True</td>\n",
       "      <td>Il y a 15 ans, ça me bottait bien. ces bons gr...</td>\n",
       "      <td>558.0</td>\n",
       "    </tr>\n",
       "    <tr>\n",
       "      <th>233259</th>\n",
       "      <td>63c682c8993b727dc2aadc20</td>\n",
       "      <td>BananeDC</td>\n",
       "      <td>2009-05-01 12:28:53</td>\n",
       "      <td>Un must ABSOLU</td>\n",
       "      <td>10.0</td>\n",
       "      <td>https://www.trictrac.net/avis/un-must-absolu-0</td>\n",
       "      <td>Shogun</td>\n",
       "      <td>https://www.trictrac.net/jeu-de-societe/shogun...</td>\n",
       "      <td>True</td>\n",
       "      <td>En 1986 sortait Shogun(réédité en 1995 sous le...</td>\n",
       "      <td>4812.0</td>\n",
       "    </tr>\n",
       "    <tr>\n",
       "      <th>233260</th>\n",
       "      <td>63c682c8993b727dc2aadc21</td>\n",
       "      <td>JackLife</td>\n",
       "      <td>2005-01-05 12:28:38</td>\n",
       "      <td>Le meilleur selon moi (et c'est pas peu dire)!</td>\n",
       "      <td>10.0</td>\n",
       "      <td>https://www.trictrac.net/avis/le-meilleur-selo...</td>\n",
       "      <td>Shogun</td>\n",
       "      <td>https://www.trictrac.net/jeu-de-societe/shogun...</td>\n",
       "      <td>True</td>\n",
       "      <td>C'est long, mais ça ne le paraît pas (voir Ein...</td>\n",
       "      <td>260.0</td>\n",
       "    </tr>\n",
       "  </tbody>\n",
       "</table>\n",
       "<p>166 rows × 11 columns</p>\n",
       "</div>"
      ],
      "text/plain": [
       "                             _id       author       date_published  \\\n",
       "200018  63c67f37993b727dc2aa5a47       PtitJu  2008-01-22 12:28:48   \n",
       "200019  63c67f37993b727dc2aa5a48      Guyomar  2007-02-13 12:28:45   \n",
       "200020  63c67f37993b727dc2aa5a49         limp  2011-03-27 12:29:00   \n",
       "200021  63c67f37993b727dc2aa5a4a        ybkam  2007-12-08 12:28:48   \n",
       "200022  63c67f37993b727dc2aa5a4b  Harry Cover  2010-09-17 12:28:57   \n",
       "...                          ...          ...                  ...   \n",
       "233256  63c682c8993b727dc2aadc1d           R2  2006-09-13 12:28:43   \n",
       "233257  63c682c8993b727dc2aadc1e    crashphil  2006-08-17 12:28:43   \n",
       "233258  63c682c8993b727dc2aadc1f       zapata  2006-01-30 12:28:41   \n",
       "233259  63c682c8993b727dc2aadc20     BananeDC  2009-05-01 12:28:53   \n",
       "233260  63c682c8993b727dc2aadc21     JackLife  2005-01-05 12:28:38   \n",
       "\n",
       "                                          title_review  note  \\\n",
       "200018    J’ai un faible pour le pays du soleil levant   8.0   \n",
       "200019                   Mes paysans dans ma gueule...  10.0   \n",
       "200020                               Espagne 1 Japon 0   8.0   \n",
       "200021                                 Soleil d'orient  10.0   \n",
       "200022                       Un jeu (de riz) complet !  10.0   \n",
       "...                                                ...   ...   \n",
       "233256                                     Oui mais...   6.0   \n",
       "233257                         Un monstre très jouable   7.0   \n",
       "233258                           Honorable étranger...   6.0   \n",
       "233259                                  Un must ABSOLU  10.0   \n",
       "233260  Le meilleur selon moi (et c'est pas peu dire)!  10.0   \n",
       "\n",
       "                                              review_href   title  \\\n",
       "200018  https://www.trictrac.net/avis/j-ai-un-faible-p...  Shogun   \n",
       "200019  https://www.trictrac.net/avis/mes-paysans-dans...  Shogun   \n",
       "200020    https://www.trictrac.net/avis/espagne-1-japon-0  Shogun   \n",
       "200021      https://www.trictrac.net/avis/soleil-d-orient  Shogun   \n",
       "200022  https://www.trictrac.net/avis/un-jeu-de-riz-co...  Shogun   \n",
       "...                                                   ...     ...   \n",
       "233256          https://www.trictrac.net/avis/oui-mais-43  Shogun   \n",
       "233257  https://www.trictrac.net/avis/un-monstre-tres-...  Shogun   \n",
       "233258   https://www.trictrac.net/avis/honorable-etranger  Shogun   \n",
       "233259     https://www.trictrac.net/avis/un-must-absolu-0  Shogun   \n",
       "233260  https://www.trictrac.net/avis/le-meilleur-selo...  Shogun   \n",
       "\n",
       "                                                      url  treated  \\\n",
       "200018  https://www.trictrac.net/jeu-de-societe/shogun...     True   \n",
       "200019  https://www.trictrac.net/jeu-de-societe/shogun...     True   \n",
       "200020  https://www.trictrac.net/jeu-de-societe/shogun...     True   \n",
       "200021  https://www.trictrac.net/jeu-de-societe/shogun...     True   \n",
       "200022  https://www.trictrac.net/jeu-de-societe/shogun...     True   \n",
       "...                                                   ...      ...   \n",
       "233256  https://www.trictrac.net/jeu-de-societe/shogun...     True   \n",
       "233257  https://www.trictrac.net/jeu-de-societe/shogun...     True   \n",
       "233258  https://www.trictrac.net/jeu-de-societe/shogun...     True   \n",
       "233259  https://www.trictrac.net/jeu-de-societe/shogun...     True   \n",
       "233260  https://www.trictrac.net/jeu-de-societe/shogun...     True   \n",
       "\n",
       "                                                  comment  review_length  \n",
       "200018  Les + :Le matériel (dont un plateau réversible...          539.0  \n",
       "200019  J'avais beaucoup apprécié Wallenstein et ce n'...          494.0  \n",
       "200020  Difficile de trancher vraiment sur ce jeu, quo...         1016.0  \n",
       "200021  Bon, c'est une splendeur, un vrai plaisir à ch...          732.0  \n",
       "200022  Conquête, Combat, Développement, Programmation...          799.0  \n",
       "...                                                   ...            ...  \n",
       "233256  J'aime les jeux avec du beau matériel qui débo...         1173.0  \n",
       "233257  J'ai acheté cette impressionnante boîte lors d...          774.0  \n",
       "233258  Il y a 15 ans, ça me bottait bien. ces bons gr...          558.0  \n",
       "233259  En 1986 sortait Shogun(réédité en 1995 sous le...         4812.0  \n",
       "233260  C'est long, mais ça ne le paraît pas (voir Ein...          260.0  \n",
       "\n",
       "[166 rows x 11 columns]"
      ]
     },
     "execution_count": 369,
     "metadata": {},
     "output_type": "execute_result"
    }
   ],
   "source": [
    "pdAvis[(pdAvis[\"title\"]== jeu)]"
   ]
  },
  {
   "cell_type": "code",
   "execution_count": 347,
   "metadata": {
    "scrolled": true
   },
   "outputs": [
    {
     "name": "stdout",
     "output_type": "stream",
     "text": [
      "Collecting evaluate\n",
      "  Downloading evaluate-0.4.3-py3-none-any.whl.metadata (9.2 kB)\n",
      "Collecting datasets>=2.0.0 (from evaluate)\n",
      "  Downloading datasets-3.5.0-py3-none-any.whl.metadata (19 kB)\n",
      "Requirement already satisfied: numpy>=1.17 in c:\\users\\habiba\\anaconda3\\lib\\site-packages (from evaluate) (1.26.4)\n",
      "Requirement already satisfied: dill in c:\\users\\habiba\\anaconda3\\lib\\site-packages (from evaluate) (0.3.8)\n",
      "Requirement already satisfied: pandas in c:\\users\\habiba\\anaconda3\\lib\\site-packages (from evaluate) (2.2.2)\n",
      "Requirement already satisfied: requests>=2.19.0 in c:\\users\\habiba\\anaconda3\\lib\\site-packages (from evaluate) (2.32.3)\n",
      "Requirement already satisfied: tqdm>=4.62.1 in c:\\users\\habiba\\anaconda3\\lib\\site-packages (from evaluate) (4.66.5)\n",
      "Collecting xxhash (from evaluate)\n",
      "  Downloading xxhash-3.5.0-cp312-cp312-win_amd64.whl.metadata (13 kB)\n",
      "Collecting multiprocess (from evaluate)\n",
      "  Downloading multiprocess-0.70.17-py312-none-any.whl.metadata (7.2 kB)\n",
      "Requirement already satisfied: fsspec>=2021.05.0 in c:\\users\\habiba\\anaconda3\\lib\\site-packages (from fsspec[http]>=2021.05.0->evaluate) (2024.6.1)\n",
      "Requirement already satisfied: huggingface-hub>=0.7.0 in c:\\users\\habiba\\anaconda3\\lib\\site-packages (from evaluate) (0.30.2)\n",
      "Requirement already satisfied: packaging in c:\\users\\habiba\\anaconda3\\lib\\site-packages (from evaluate) (24.1)\n",
      "Requirement already satisfied: filelock in c:\\users\\habiba\\anaconda3\\lib\\site-packages (from datasets>=2.0.0->evaluate) (3.13.1)\n",
      "Requirement already satisfied: pyarrow>=15.0.0 in c:\\users\\habiba\\anaconda3\\lib\\site-packages (from datasets>=2.0.0->evaluate) (16.1.0)\n",
      "  Downloading multiprocess-0.70.16-py312-none-any.whl.metadata (7.2 kB)\n",
      "Requirement already satisfied: aiohttp in c:\\users\\habiba\\anaconda3\\lib\\site-packages (from datasets>=2.0.0->evaluate) (3.10.5)\n",
      "Requirement already satisfied: pyyaml>=5.1 in c:\\users\\habiba\\anaconda3\\lib\\site-packages (from datasets>=2.0.0->evaluate) (6.0.1)\n",
      "Requirement already satisfied: typing-extensions>=3.7.4.3 in c:\\users\\habiba\\anaconda3\\lib\\site-packages (from huggingface-hub>=0.7.0->evaluate) (4.11.0)\n",
      "Requirement already satisfied: charset-normalizer<4,>=2 in c:\\users\\habiba\\anaconda3\\lib\\site-packages (from requests>=2.19.0->evaluate) (3.3.2)\n",
      "Requirement already satisfied: idna<4,>=2.5 in c:\\users\\habiba\\anaconda3\\lib\\site-packages (from requests>=2.19.0->evaluate) (3.7)\n",
      "Requirement already satisfied: urllib3<3,>=1.21.1 in c:\\users\\habiba\\anaconda3\\lib\\site-packages (from requests>=2.19.0->evaluate) (2.2.3)\n",
      "Requirement already satisfied: certifi>=2017.4.17 in c:\\users\\habiba\\anaconda3\\lib\\site-packages (from requests>=2.19.0->evaluate) (2025.1.31)\n",
      "Requirement already satisfied: colorama in c:\\users\\habiba\\anaconda3\\lib\\site-packages (from tqdm>=4.62.1->evaluate) (0.4.6)\n",
      "Requirement already satisfied: python-dateutil>=2.8.2 in c:\\users\\habiba\\anaconda3\\lib\\site-packages (from pandas->evaluate) (2.9.0.post0)\n",
      "Requirement already satisfied: pytz>=2020.1 in c:\\users\\habiba\\anaconda3\\lib\\site-packages (from pandas->evaluate) (2024.1)\n",
      "Requirement already satisfied: tzdata>=2022.7 in c:\\users\\habiba\\anaconda3\\lib\\site-packages (from pandas->evaluate) (2023.3)\n",
      "Requirement already satisfied: aiohappyeyeballs>=2.3.0 in c:\\users\\habiba\\anaconda3\\lib\\site-packages (from aiohttp->datasets>=2.0.0->evaluate) (2.4.0)\n",
      "Requirement already satisfied: aiosignal>=1.1.2 in c:\\users\\habiba\\anaconda3\\lib\\site-packages (from aiohttp->datasets>=2.0.0->evaluate) (1.2.0)\n",
      "Requirement already satisfied: attrs>=17.3.0 in c:\\users\\habiba\\anaconda3\\lib\\site-packages (from aiohttp->datasets>=2.0.0->evaluate) (23.1.0)\n",
      "Requirement already satisfied: frozenlist>=1.1.1 in c:\\users\\habiba\\anaconda3\\lib\\site-packages (from aiohttp->datasets>=2.0.0->evaluate) (1.4.0)\n",
      "Requirement already satisfied: multidict<7.0,>=4.5 in c:\\users\\habiba\\anaconda3\\lib\\site-packages (from aiohttp->datasets>=2.0.0->evaluate) (6.0.4)\n",
      "Requirement already satisfied: yarl<2.0,>=1.0 in c:\\users\\habiba\\anaconda3\\lib\\site-packages (from aiohttp->datasets>=2.0.0->evaluate) (1.11.0)\n",
      "Requirement already satisfied: six>=1.5 in c:\\users\\habiba\\anaconda3\\lib\\site-packages (from python-dateutil>=2.8.2->pandas->evaluate) (1.16.0)\n",
      "Downloading evaluate-0.4.3-py3-none-any.whl (84 kB)\n",
      "Downloading datasets-3.5.0-py3-none-any.whl (491 kB)\n",
      "Downloading multiprocess-0.70.16-py312-none-any.whl (146 kB)\n",
      "Downloading xxhash-3.5.0-cp312-cp312-win_amd64.whl (30 kB)\n",
      "Installing collected packages: xxhash, multiprocess, datasets, evaluate\n",
      "Successfully installed datasets-3.5.0 evaluate-0.4.3 multiprocess-0.70.16 xxhash-3.5.0\n"
     ]
    }
   ],
   "source": [
    "!pip install evaluate"
   ]
  },
  {
   "cell_type": "code",
   "execution_count": 355,
   "metadata": {
    "scrolled": true
   },
   "outputs": [
    {
     "name": "stdout",
     "output_type": "stream",
     "text": [
      "Collecting rouge_score\n",
      "  Downloading rouge_score-0.1.2.tar.gz (17 kB)\n",
      "  Preparing metadata (setup.py): started\n",
      "  Preparing metadata (setup.py): finished with status 'done'\n",
      "Requirement already satisfied: absl-py in c:\\users\\habiba\\anaconda3\\lib\\site-packages (from rouge_score) (2.1.0)\n",
      "Requirement already satisfied: nltk in c:\\users\\habiba\\anaconda3\\lib\\site-packages (from rouge_score) (3.9.1)\n",
      "Requirement already satisfied: numpy in c:\\users\\habiba\\anaconda3\\lib\\site-packages (from rouge_score) (1.26.4)\n",
      "Requirement already satisfied: six>=1.14.0 in c:\\users\\habiba\\anaconda3\\lib\\site-packages (from rouge_score) (1.16.0)\n",
      "Requirement already satisfied: click in c:\\users\\habiba\\anaconda3\\lib\\site-packages (from nltk->rouge_score) (8.1.7)\n",
      "Requirement already satisfied: joblib in c:\\users\\habiba\\anaconda3\\lib\\site-packages (from nltk->rouge_score) (1.4.2)\n",
      "Requirement already satisfied: regex>=2021.8.3 in c:\\users\\habiba\\anaconda3\\lib\\site-packages (from nltk->rouge_score) (2024.9.11)\n",
      "Requirement already satisfied: tqdm in c:\\users\\habiba\\anaconda3\\lib\\site-packages (from nltk->rouge_score) (4.66.5)\n",
      "Requirement already satisfied: colorama in c:\\users\\habiba\\anaconda3\\lib\\site-packages (from click->nltk->rouge_score) (0.4.6)\n",
      "Building wheels for collected packages: rouge_score\n",
      "  Building wheel for rouge_score (setup.py): started\n",
      "  Building wheel for rouge_score (setup.py): finished with status 'done'\n",
      "  Created wheel for rouge_score: filename=rouge_score-0.1.2-py3-none-any.whl size=24972 sha256=6708d15370dba6d596fead9ead1b9ef58031f08b59847ba4ec816a1b486782fd\n",
      "  Stored in directory: c:\\users\\habiba\\appdata\\local\\pip\\cache\\wheels\\85\\9d\\af\\01feefbe7d55ef5468796f0c68225b6788e85d9d0a281e7a70\n",
      "Successfully built rouge_score\n",
      "Installing collected packages: rouge_score\n",
      "Successfully installed rouge_score-0.1.2\n"
     ]
    }
   ],
   "source": [
    "!pip install rouge_score"
   ]
  },
  {
   "cell_type": "code",
   "execution_count": 358,
   "metadata": {
    "scrolled": true
   },
   "outputs": [
    {
     "name": "stdout",
     "output_type": "stream",
     "text": [
      "Collecting bert_score\n",
      "  Downloading bert_score-0.3.13-py3-none-any.whl.metadata (15 kB)\n",
      "Requirement already satisfied: torch>=1.0.0 in c:\\users\\habiba\\anaconda3\\lib\\site-packages (from bert_score) (2.6.0)\n",
      "Requirement already satisfied: pandas>=1.0.1 in c:\\users\\habiba\\anaconda3\\lib\\site-packages (from bert_score) (2.2.2)\n",
      "Requirement already satisfied: transformers>=3.0.0 in c:\\users\\habiba\\anaconda3\\lib\\site-packages (from bert_score) (4.51.2)\n",
      "Requirement already satisfied: numpy in c:\\users\\habiba\\anaconda3\\lib\\site-packages (from bert_score) (1.26.4)\n",
      "Requirement already satisfied: requests in c:\\users\\habiba\\anaconda3\\lib\\site-packages (from bert_score) (2.32.3)\n",
      "Requirement already satisfied: tqdm>=4.31.1 in c:\\users\\habiba\\anaconda3\\lib\\site-packages (from bert_score) (4.66.5)\n",
      "Requirement already satisfied: matplotlib in c:\\users\\habiba\\anaconda3\\lib\\site-packages (from bert_score) (3.9.2)\n",
      "Requirement already satisfied: packaging>=20.9 in c:\\users\\habiba\\anaconda3\\lib\\site-packages (from bert_score) (24.1)\n",
      "Requirement already satisfied: python-dateutil>=2.8.2 in c:\\users\\habiba\\anaconda3\\lib\\site-packages (from pandas>=1.0.1->bert_score) (2.9.0.post0)\n",
      "Requirement already satisfied: pytz>=2020.1 in c:\\users\\habiba\\anaconda3\\lib\\site-packages (from pandas>=1.0.1->bert_score) (2024.1)\n",
      "Requirement already satisfied: tzdata>=2022.7 in c:\\users\\habiba\\anaconda3\\lib\\site-packages (from pandas>=1.0.1->bert_score) (2023.3)\n",
      "Requirement already satisfied: filelock in c:\\users\\habiba\\anaconda3\\lib\\site-packages (from torch>=1.0.0->bert_score) (3.13.1)\n",
      "Requirement already satisfied: typing-extensions>=4.10.0 in c:\\users\\habiba\\anaconda3\\lib\\site-packages (from torch>=1.0.0->bert_score) (4.11.0)\n",
      "Requirement already satisfied: networkx in c:\\users\\habiba\\anaconda3\\lib\\site-packages (from torch>=1.0.0->bert_score) (3.3)\n",
      "Requirement already satisfied: jinja2 in c:\\users\\habiba\\anaconda3\\lib\\site-packages (from torch>=1.0.0->bert_score) (3.1.4)\n",
      "Requirement already satisfied: fsspec in c:\\users\\habiba\\anaconda3\\lib\\site-packages (from torch>=1.0.0->bert_score) (2024.6.1)\n",
      "Requirement already satisfied: setuptools in c:\\users\\habiba\\anaconda3\\lib\\site-packages (from torch>=1.0.0->bert_score) (75.1.0)\n",
      "Requirement already satisfied: sympy==1.13.1 in c:\\users\\habiba\\anaconda3\\lib\\site-packages (from torch>=1.0.0->bert_score) (1.13.1)\n",
      "Requirement already satisfied: mpmath<1.4,>=1.1.0 in c:\\users\\habiba\\anaconda3\\lib\\site-packages (from sympy==1.13.1->torch>=1.0.0->bert_score) (1.3.0)\n",
      "Requirement already satisfied: colorama in c:\\users\\habiba\\anaconda3\\lib\\site-packages (from tqdm>=4.31.1->bert_score) (0.4.6)\n",
      "Requirement already satisfied: huggingface-hub<1.0,>=0.30.0 in c:\\users\\habiba\\anaconda3\\lib\\site-packages (from transformers>=3.0.0->bert_score) (0.30.2)\n",
      "Requirement already satisfied: pyyaml>=5.1 in c:\\users\\habiba\\anaconda3\\lib\\site-packages (from transformers>=3.0.0->bert_score) (6.0.1)\n",
      "Requirement already satisfied: regex!=2019.12.17 in c:\\users\\habiba\\anaconda3\\lib\\site-packages (from transformers>=3.0.0->bert_score) (2024.9.11)\n",
      "Requirement already satisfied: tokenizers<0.22,>=0.21 in c:\\users\\habiba\\anaconda3\\lib\\site-packages (from transformers>=3.0.0->bert_score) (0.21.1)\n",
      "Requirement already satisfied: safetensors>=0.4.3 in c:\\users\\habiba\\anaconda3\\lib\\site-packages (from transformers>=3.0.0->bert_score) (0.5.3)\n",
      "Requirement already satisfied: contourpy>=1.0.1 in c:\\users\\habiba\\anaconda3\\lib\\site-packages (from matplotlib->bert_score) (1.2.0)\n",
      "Requirement already satisfied: cycler>=0.10 in c:\\users\\habiba\\anaconda3\\lib\\site-packages (from matplotlib->bert_score) (0.11.0)\n",
      "Requirement already satisfied: fonttools>=4.22.0 in c:\\users\\habiba\\anaconda3\\lib\\site-packages (from matplotlib->bert_score) (4.51.0)\n",
      "Requirement already satisfied: kiwisolver>=1.3.1 in c:\\users\\habiba\\anaconda3\\lib\\site-packages (from matplotlib->bert_score) (1.4.4)\n",
      "Requirement already satisfied: pillow>=8 in c:\\users\\habiba\\anaconda3\\lib\\site-packages (from matplotlib->bert_score) (10.4.0)\n",
      "Requirement already satisfied: pyparsing>=2.3.1 in c:\\users\\habiba\\anaconda3\\lib\\site-packages (from matplotlib->bert_score) (3.1.2)\n",
      "Requirement already satisfied: charset-normalizer<4,>=2 in c:\\users\\habiba\\anaconda3\\lib\\site-packages (from requests->bert_score) (3.3.2)\n",
      "Requirement already satisfied: idna<4,>=2.5 in c:\\users\\habiba\\anaconda3\\lib\\site-packages (from requests->bert_score) (3.7)\n",
      "Requirement already satisfied: urllib3<3,>=1.21.1 in c:\\users\\habiba\\anaconda3\\lib\\site-packages (from requests->bert_score) (2.2.3)\n",
      "Requirement already satisfied: certifi>=2017.4.17 in c:\\users\\habiba\\anaconda3\\lib\\site-packages (from requests->bert_score) (2025.1.31)\n",
      "Requirement already satisfied: six>=1.5 in c:\\users\\habiba\\anaconda3\\lib\\site-packages (from python-dateutil>=2.8.2->pandas>=1.0.1->bert_score) (1.16.0)\n",
      "Requirement already satisfied: MarkupSafe>=2.0 in c:\\users\\habiba\\anaconda3\\lib\\site-packages (from jinja2->torch>=1.0.0->bert_score) (2.1.3)\n",
      "Downloading bert_score-0.3.13-py3-none-any.whl (61 kB)\n",
      "Installing collected packages: bert_score\n",
      "Successfully installed bert_score-0.3.13\n"
     ]
    }
   ],
   "source": [
    "!pip install bert_score"
   ]
  },
  {
   "cell_type": "code",
   "execution_count": 325,
   "metadata": {
    "scrolled": true
   },
   "outputs": [
    {
     "name": "stdout",
     "output_type": "stream",
     "text": [
      "Collecting sentence_transformers\n",
      "  Downloading sentence_transformers-4.0.2-py3-none-any.whl.metadata (13 kB)\n",
      "Collecting transformers<5.0.0,>=4.41.0 (from sentence_transformers)\n",
      "  Downloading transformers-4.51.2-py3-none-any.whl.metadata (38 kB)\n",
      "Requirement already satisfied: tqdm in c:\\users\\habiba\\anaconda3\\lib\\site-packages (from sentence_transformers) (4.66.5)\n",
      "Requirement already satisfied: torch>=1.11.0 in c:\\users\\habiba\\anaconda3\\lib\\site-packages (from sentence_transformers) (2.6.0)\n",
      "Requirement already satisfied: scikit-learn in c:\\users\\habiba\\anaconda3\\lib\\site-packages (from sentence_transformers) (1.5.1)\n",
      "Requirement already satisfied: scipy in c:\\users\\habiba\\anaconda3\\lib\\site-packages (from sentence_transformers) (1.13.1)\n",
      "Collecting huggingface-hub>=0.20.0 (from sentence_transformers)\n",
      "  Downloading huggingface_hub-0.30.2-py3-none-any.whl.metadata (13 kB)\n",
      "Requirement already satisfied: Pillow in c:\\users\\habiba\\anaconda3\\lib\\site-packages (from sentence_transformers) (10.4.0)\n",
      "Requirement already satisfied: typing_extensions>=4.5.0 in c:\\users\\habiba\\anaconda3\\lib\\site-packages (from sentence_transformers) (4.11.0)\n",
      "Requirement already satisfied: filelock in c:\\users\\habiba\\anaconda3\\lib\\site-packages (from huggingface-hub>=0.20.0->sentence_transformers) (3.13.1)\n",
      "Requirement already satisfied: fsspec>=2023.5.0 in c:\\users\\habiba\\anaconda3\\lib\\site-packages (from huggingface-hub>=0.20.0->sentence_transformers) (2024.6.1)\n",
      "Requirement already satisfied: packaging>=20.9 in c:\\users\\habiba\\anaconda3\\lib\\site-packages (from huggingface-hub>=0.20.0->sentence_transformers) (24.1)\n",
      "Requirement already satisfied: pyyaml>=5.1 in c:\\users\\habiba\\anaconda3\\lib\\site-packages (from huggingface-hub>=0.20.0->sentence_transformers) (6.0.1)\n",
      "Requirement already satisfied: requests in c:\\users\\habiba\\anaconda3\\lib\\site-packages (from huggingface-hub>=0.20.0->sentence_transformers) (2.32.3)\n",
      "Requirement already satisfied: networkx in c:\\users\\habiba\\anaconda3\\lib\\site-packages (from torch>=1.11.0->sentence_transformers) (3.3)\n",
      "Requirement already satisfied: jinja2 in c:\\users\\habiba\\anaconda3\\lib\\site-packages (from torch>=1.11.0->sentence_transformers) (3.1.4)\n",
      "Requirement already satisfied: setuptools in c:\\users\\habiba\\anaconda3\\lib\\site-packages (from torch>=1.11.0->sentence_transformers) (75.1.0)\n",
      "Requirement already satisfied: sympy==1.13.1 in c:\\users\\habiba\\anaconda3\\lib\\site-packages (from torch>=1.11.0->sentence_transformers) (1.13.1)\n",
      "Requirement already satisfied: mpmath<1.4,>=1.1.0 in c:\\users\\habiba\\anaconda3\\lib\\site-packages (from sympy==1.13.1->torch>=1.11.0->sentence_transformers) (1.3.0)\n",
      "Requirement already satisfied: colorama in c:\\users\\habiba\\anaconda3\\lib\\site-packages (from tqdm->sentence_transformers) (0.4.6)\n",
      "Requirement already satisfied: numpy>=1.17 in c:\\users\\habiba\\anaconda3\\lib\\site-packages (from transformers<5.0.0,>=4.41.0->sentence_transformers) (1.26.4)\n",
      "Requirement already satisfied: regex!=2019.12.17 in c:\\users\\habiba\\anaconda3\\lib\\site-packages (from transformers<5.0.0,>=4.41.0->sentence_transformers) (2024.9.11)\n",
      "Collecting tokenizers<0.22,>=0.21 (from transformers<5.0.0,>=4.41.0->sentence_transformers)\n",
      "  Downloading tokenizers-0.21.1-cp39-abi3-win_amd64.whl.metadata (6.9 kB)\n",
      "Collecting safetensors>=0.4.3 (from transformers<5.0.0,>=4.41.0->sentence_transformers)\n",
      "  Downloading safetensors-0.5.3-cp38-abi3-win_amd64.whl.metadata (3.9 kB)\n",
      "Requirement already satisfied: joblib>=1.2.0 in c:\\users\\habiba\\anaconda3\\lib\\site-packages (from scikit-learn->sentence_transformers) (1.4.2)\n",
      "Requirement already satisfied: threadpoolctl>=3.1.0 in c:\\users\\habiba\\anaconda3\\lib\\site-packages (from scikit-learn->sentence_transformers) (3.5.0)\n",
      "Requirement already satisfied: MarkupSafe>=2.0 in c:\\users\\habiba\\anaconda3\\lib\\site-packages (from jinja2->torch>=1.11.0->sentence_transformers) (2.1.3)\n",
      "Requirement already satisfied: charset-normalizer<4,>=2 in c:\\users\\habiba\\anaconda3\\lib\\site-packages (from requests->huggingface-hub>=0.20.0->sentence_transformers) (3.3.2)\n",
      "Requirement already satisfied: idna<4,>=2.5 in c:\\users\\habiba\\anaconda3\\lib\\site-packages (from requests->huggingface-hub>=0.20.0->sentence_transformers) (3.7)\n",
      "Requirement already satisfied: urllib3<3,>=1.21.1 in c:\\users\\habiba\\anaconda3\\lib\\site-packages (from requests->huggingface-hub>=0.20.0->sentence_transformers) (2.2.3)\n",
      "Requirement already satisfied: certifi>=2017.4.17 in c:\\users\\habiba\\anaconda3\\lib\\site-packages (from requests->huggingface-hub>=0.20.0->sentence_transformers) (2025.1.31)\n",
      "Downloading sentence_transformers-4.0.2-py3-none-any.whl (340 kB)\n",
      "Downloading huggingface_hub-0.30.2-py3-none-any.whl (481 kB)\n",
      "Downloading transformers-4.51.2-py3-none-any.whl (10.4 MB)\n",
      "   ---------------------------------------- 0.0/10.4 MB ? eta -:--:--\n",
      "   -------- ------------------------------- 2.1/10.4 MB 9.8 MB/s eta 0:00:01\n",
      "   ------------------- -------------------- 5.0/10.4 MB 11.2 MB/s eta 0:00:01\n",
      "   ----------------------------- ---------- 7.6/10.4 MB 11.7 MB/s eta 0:00:01\n",
      "   ---------------------------------------  10.2/10.4 MB 11.8 MB/s eta 0:00:01\n",
      "   ---------------------------------------- 10.4/10.4 MB 11.5 MB/s eta 0:00:00\n",
      "Downloading safetensors-0.5.3-cp38-abi3-win_amd64.whl (308 kB)\n",
      "Downloading tokenizers-0.21.1-cp39-abi3-win_amd64.whl (2.4 MB)\n",
      "   ---------------------------------------- 0.0/2.4 MB ? eta -:--:--\n",
      "   -------------------------------------- - 2.4/2.4 MB 12.2 MB/s eta 0:00:01\n",
      "   ---------------------------------------- 2.4/2.4 MB 11.6 MB/s eta 0:00:00\n",
      "Installing collected packages: safetensors, huggingface-hub, tokenizers, transformers, sentence_transformers\n",
      "Successfully installed huggingface-hub-0.30.2 safetensors-0.5.3 sentence_transformers-4.0.2 tokenizers-0.21.1 transformers-4.51.2\n"
     ]
    }
   ],
   "source": [
    "!pip install sentence_transformers"
   ]
  },
  {
   "cell_type": "markdown",
   "metadata": {
    "id": "9EOgNfoMY2Lb"
   },
   "source": [
    "# **utilisation du llm ollama : llama**"
   ]
  },
  {
   "cell_type": "code",
   "execution_count": 461,
   "metadata": {},
   "outputs": [],
   "source": [
    "import requests\n",
    "\n",
    "def ask_ollama(prompt):\n",
    "    response = requests.post(\n",
    "        \"http://localhost:11434/api/generate\",\n",
    "        json={\"model\": \"llama3.2:latest\", \"prompt\": prompt, \"stream\": False}\n",
    "    )\n",
    "    #print(response.json())\n",
    "    return response.json()[\"response\"]\n"
   ]
  },
  {
   "cell_type": "code",
   "execution_count": 470,
   "metadata": {},
   "outputs": [],
   "source": [
    "def expliquer_recommandation(user_name, nom_jeu, commentaires_voisins_pos, commentaires_voisins_neg):\n",
    "    prompt = f\"\"\"\n",
    "    Tu es un assistant de recommandation de jeux de société.\n",
    "    En te basant sur les commentaires positifs et negatifs d'utilisateurs proches, explique pourquoi le jeu \"{nom_jeu}\" pourrait plaire à l'utilisateur \"{user_name}\" en synthetisant :\n",
    "    {\"; \".join(commentaires_voisins_pos)}\n",
    "    {\"; \".join(commentaires_voisins_neg)}\n",
    "    \n",
    "    Utilise un ton naturel et convaincant, mais ne parle pas à la première personne. La réponse doit être concise et directe.\n",
    "    \"\"\"\n",
    "    return ask_ollama(prompt)\n"
   ]
  },
  {
   "cell_type": "code",
   "execution_count": 483,
   "metadata": {},
   "outputs": [],
   "source": [
    "def synthese_recommandation_ollama(user_name, nom_jeu, commentaires_proches_pos, commentaires_proches_neg, commentaires_lointains_pos, commentaires_lointains_neg):\n",
    "    prompt = f\"\"\"\n",
    "    Tu es un assistant de recommandation de jeux de société.\n",
    "    En te basant sur les commentaires ci-dessous, explique pourquoi le jeu \"{nom_jeu}\" pourrait plaire à l'utilisateur \"{user_name}\". \n",
    "    - Les utilisateurs proches de {user_name} ayant **bien noté** le jeu (note > 6) ont dit :\n",
    "    {'; '.join(commentaires_proches_pos)}\n",
    "    - Les **utilisateurs proches de {user_name} ayant **mal noté** le jeu (note ≤ 6) ont dit :\n",
    "    {'; '.join(commentaires_proches_neg)}\n",
    "    - Les utilisateurs éloignés ayant bien noté le jeu :\n",
    "    {'; '.join(commentaires_lointains_pos)}\n",
    "    - Les utilisateurs éloignés ayant mal noté le jeu :\n",
    "    {'; '.join(commentaires_lointains_neg)}\n",
    "    \n",
    "    Rédige une **explication naturelle, concise, et convaincante** en synthetisant. \n",
    "     Ne parle pas à la première personne et fait comme si tu parles à ce joueur.\n",
    "    \"\"\"\n",
    "    #qui met l’accent sur ce que les utilisateurs proches ont aimé dans le jeu. Mentionne aussi les points de divergence.\n",
    "\n",
    "    return ask_ollama(prompt)"
   ]
  },
  {
   "cell_type": "code",
   "execution_count": 465,
   "metadata": {},
   "outputs": [],
   "source": [
    "def get_comments_voisins(user_name, game_title, k=50 , seuil=6):\n",
    "    voisins_data = get_neighbors(user_name, game_title, k)\n",
    "    # Extraire seulement les commentaires dont la note est au moins égale au seuil\n",
    "    commentaires_pos = [comment for _, note, comment in voisins_data if note > seuil]\n",
    "    # Extraire seulement les commentaires dont la note est plus petit que le seuil\n",
    "    commentaires_neg = [comment for _, note, comment in voisins_data if note <= seuil]\n",
    "    return commentaires_pos, commentaires_neg\n"
   ]
  },
  {
   "cell_type": "code",
   "execution_count": 523,
   "metadata": {},
   "outputs": [
    {
     "name": "stdout",
     "output_type": "stream",
     "text": [
      "['Yzarc', 'limp', 'ijonesjeux', 'morlockbob', 'Pac', 'PtitJu', 'cmsy', 'samuel2277', 'Sicander vincit', 'PROPHETTE', 'pepetteuh', 'Atanaheim', 'rugal', 'starvince', 'voxmetalis', 'RickyPimous', 'serraangel', 'Monsieur Guillaume', 'SwatSh', 'prunelles', 'BSI40', 'kakawette', 'axelian73', 'MisTeR ToON', 'Lilly', 'letroyenfou', 'Tostaky37', 'Empédocle', 'lenantaisdemontelimar', 'AtomChris', 'Ricardo31', 'Player One', 'expliquemoica', 'koala von koala', 'Madame Mathilde', 'Antoinette', 'le.meeple.jaune', 'grotesk', 'Jones', 'bunnypookah', 'Greta', 'Hagrael', 'zeibacker', 'boscouzareix', 'John Lénine', 'AkoaTujou', 'PapaJeux', 'El Lorenzo207', 'plumesdanges', 'Didi5962']\n",
      "Nombre de voisins ayant commenté ce jeu : 12\n",
      "11\n",
      "1\n"
     ]
    }
   ],
   "source": [
    "commentaires_voisins_pos, commentaires_voisins_neg = get_comments_voisins(utilisateur, jeu, seuil = 7)\n",
    "print(len(commentaires_voisins_pos))\n",
    "print(len(commentaires_voisins_neg))"
   ]
  },
  {
   "cell_type": "code",
   "execution_count": 467,
   "metadata": {},
   "outputs": [],
   "source": [
    "def get_distant_users_comments(user_name, game_title, k=50, seuil=6):\n",
    "    # 1. Récupérer tous les utilisateurs\n",
    "    all_users = set(pdAvis['author'].unique())\n",
    "    \n",
    "    # 2. Obtenir les voisins proches\n",
    "    try:\n",
    "        user_inner_id = trainset2.to_inner_uid(user_name)\n",
    "        neighbor_inner_ids = knn_means.get_neighbors(user_inner_id, k)\n",
    "        neighbors = set([trainset2.to_raw_uid(inner_id) for inner_id in neighbor_inner_ids])\n",
    "    except ValueError:\n",
    "        print(f\"L'utilisateur {user_name} n'est pas dans le trainset.\")\n",
    "        return []\n",
    "    \n",
    "    # 3. Trouver les utilisateurs éloignés\n",
    "    distant_users = all_users - neighbors - {user_name}\n",
    "    \n",
    "    # 4. Filtrer les commentaires de ces utilisateurs pour le jeu donné\n",
    "    distant_comments = pdAvis[\n",
    "        (pdAvis['author'].isin(distant_users)) &\n",
    "        (pdAvis['title'] == game_title) &\n",
    "        (pdAvis['comment'].notnull())\n",
    "    ]\n",
    "\n",
    "    # Positifs et negatifs comments \n",
    "    pos = distant_comments[distant_comments[\"note\"] > seuil]\n",
    "    neg = distant_comments[distant_comments[\"note\"] <= seuil]\n",
    "\n",
    "    poslist = pos[['author', 'note', 'comment']].values.tolist()\n",
    "    neglist = neg[['author', 'note', 'comment']].values.tolist()\n",
    "\n",
    "    poscomments = [comment for _, note, comment in poslist]\n",
    "    negcomments = [comment for _, note, comment in neglist]\n",
    "    \n",
    "    # Retourner les commentaires triés\n",
    "    return poscomments, negcomments"
   ]
  },
  {
   "cell_type": "code",
   "execution_count": 524,
   "metadata": {},
   "outputs": [
    {
     "name": "stdout",
     "output_type": "stream",
     "text": [
      "118\n",
      "35\n"
     ]
    }
   ],
   "source": [
    "commentaires_distant_pos, commentaires_distant_neg =get_distant_users_comments(utilisateur, jeu, seuil = 6)\n",
    "print(len(commentaires_distant_pos))\n",
    "print(len(commentaires_distant_neg))"
   ]
  },
  {
   "cell_type": "code",
   "execution_count": 471,
   "metadata": {},
   "outputs": [
    {
     "name": "stdout",
     "output_type": "stream",
     "text": [
      "Shogun est un jeu de stratégie et de conquête qui reprend les mécanismes du classique Wallenstein et les transfère dans le Japon du XVIè siècle. Le jeu privilégie les jeux stratégiques et la réflexion à l'avance, plutôt que la réaction spontanée.\n",
      "\n",
      "Les mécanismes clés du jeu incluent :\n",
      "\n",
      "* La tour qui \"innove\" dans l'aléa, créant une ambiance de pression inimitable\n",
      "* Des actions simultanées et d'autres dans un ordre chronologique\n",
      "* Un renouveau à chaque tour avec l'ordre des bonus et des actions\n",
      "* Le système de placement initial\n",
      "\n",
      "Cependant, le jeu présente également quelques limites, notamment :\n",
      "\n",
      "* Chaque action ne sera faite que 6 fois maximum, ce qui rend difficile la réalisation d'une stratégie globale\n",
      "* Se déplacer et attaquer sont des mouvements restreints à seulement 6 fois\n",
      "* Les forces qui restent dans la coupelle appartenant à un joueur peuvent être utilisées pour aider lors d'un combat\n",
      "\n",
      "En fin de compte, Shogun est un jeu de conquête très engageant et stratégique, avec une qualité du matériel exceptionnelle. Cependant, il peut être long et nécessite une grande concentration des joueurs.\n"
     ]
    }
   ],
   "source": [
    "com_proche = expliquer_recommandation(utilisateur,jeu, commentaires_voisins_pos, commentaires_voisins_neg)\n",
    "print(com_proche)"
   ]
  },
  {
   "cell_type": "code",
   "execution_count": 484,
   "metadata": {},
   "outputs": [
    {
     "name": "stdout",
     "output_type": "stream",
     "text": [
      "Shogun est un jeu de stratégie qui permet aux joueurs de prendre le contrôle du Japon féodal dans les années 1500. Le jeu repose sur une mécanique de recherche technologique, d'unités diversifiées et de diplomatie pour espérer remporter la victoire.\n",
      "\n",
      "Cependant, Shogun est marqué par une longueur excessive des parties, une répétitivité des tours et des actions, ainsi qu'un temps d'attente excessif entre les tours. Les joueurs sont condamnés à vivoter si un autre joueur prend de l'avance, ce qui peut créer une ambiance tendue et agressive.\n",
      "\n",
      "En comparaison avec d'autres jeux similaires comme Axis & Allies, Shogun manque de saveur en raison d'une dispertion aléatoire des forces en début de partie et d'un équilibre peu optimal. Les joueurs peuvent avoir du mal à prendre parti contre les autres joueurs qui se liguent contre eux.\n",
      "\n",
      "Malgré ces limites, Shogun est un jeu intéressant pour les amateurs de stratégie et de japonisme, et il mérite le détour pour ceux qui sont curieux d'explorer son univers.\n"
     ]
    }
   ],
   "source": [
    "com_tout = synthese_recommandation_ollama(utilisateur, jeu, commentaires_voisins_pos, commentaires_voisins_neg, commentaires_distant_pos, commentaires_distant_neg)\n",
    "print(com_tout)"
   ]
  },
  {
   "cell_type": "code",
   "execution_count": 474,
   "metadata": {},
   "outputs": [
    {
     "name": "stdout",
     "output_type": "stream",
     "text": [
      "Le système de cube au lieu des dès n'est pas franchement meilleurs : les cubes lancés au début ont une plus grosse tendance à se bloquer que les suivants et ce pour le reste de la partie....\n"
     ]
    }
   ],
   "source": [
    "print(pdAvis[(pdAvis[\"author\"] == utilisateur) & (pdAvis[\"title\"] == jeu)][\"comment\"].iloc[0])"
   ]
  },
  {
   "cell_type": "code",
   "execution_count": 525,
   "metadata": {},
   "outputs": [
    {
     "name": "stdout",
     "output_type": "stream",
     "text": [
      "{'bleu': 0.0, 'precisions': [0.10152284263959391, 0.01020408163265306, 0.005128205128205128, 0.0], 'brevity_penalty': 1.0, 'length_ratio': 4.804878048780488, 'translation_length': 197, 'reference_length': 41}\n",
      "\n",
      "{'rouge1': 0.18106995884773663, 'rouge2': 0.024896265560165977, 'rougeL': 0.0823045267489712, 'rougeLsum': 0.13991769547325103}\n"
     ]
    }
   ],
   "source": [
    "predictions = [com_proche]\n",
    "references = [pdAvis[(pdAvis[\"author\"] == utilisateur) & (pdAvis[\"title\"] == jeu)][\"comment\"].iloc[0]]\n",
    "\n",
    "bleu = evaluate.load(\"bleu\")\n",
    "results_bleu= bleu.compute(predictions=predictions, references=references)\n",
    "\n",
    "print(results_bleu)\n",
    "print()\n",
    "\n",
    "rouge = evaluate.load(\"rouge\")\n",
    "results_rouge = rouge.compute(predictions=predictions, references=references)\n",
    "\n",
    "print(results_rouge)"
   ]
  },
  {
   "cell_type": "code",
   "execution_count": 559,
   "metadata": {},
   "outputs": [
    {
     "name": "stdout",
     "output_type": "stream",
     "text": [
      "{'bleu': 0.0, 'precisions': [0.11173184357541899, 0.0, 0.0, 0.0], 'brevity_penalty': 1.0, 'length_ratio': 4.365853658536586, 'translation_length': 179, 'reference_length': 41}\n",
      "\n",
      "{'rouge1': 0.1762114537444934, 'rouge2': 0.008888888888888889, 'rougeL': 0.1145374449339207, 'rougeLsum': 0.1409691629955947}\n"
     ]
    }
   ],
   "source": [
    "import evaluate\n",
    "\n",
    "##bleue score  measures the similarity between the machine-translated text and the reference translations using n-grams\n",
    "##BLEU score heavily relies on n-grams and may not capture the overall meaning or fluency of the translated text accurately.\n",
    "\n",
    "\n",
    "# Define the candidate predictions and reference sentences\n",
    "predictions = [com_tout]\n",
    "references = [pdAvis[(pdAvis[\"author\"] == utilisateur) & (pdAvis[\"title\"] == jeu)][\"comment\"].iloc[0]]\n",
    "\n",
    "# Load the BLEU evaluation metric\n",
    "bleu = evaluate.load(\"bleu\")\n",
    "\n",
    "# Compute the BLEU score\n",
    "results_bleu= bleu.compute(predictions=predictions, references=references)\n",
    "\n",
    "# Print the results\n",
    "print(results_bleu)\n",
    "print()\n",
    "##ROUGE-N measures the overlap of n-grams\n",
    "##ROUGE-L measures the longest common subsequence\n",
    "##ROUGE-S measures the skip-bigram overlap between the candidate and reference text.\n",
    "## évalue la ressemblance en surface (mots, ordre).\n",
    "##ROUGE does not manage different words that have the same meaning, as it measures syntactical matches rather than semantics.\n",
    "\n",
    "# Define the candidate predictions and reference sentences\n",
    "rouge = evaluate.load(\"rouge\")\n",
    "\n",
    "results_rouge = rouge.compute(predictions=predictions, references=references)\n",
    "\n",
    "# Print the results\n",
    "print(results_rouge)"
   ]
  },
  {
   "cell_type": "code",
   "execution_count": 560,
   "metadata": {},
   "outputs": [
    {
     "name": "stdout",
     "output_type": "stream",
     "text": [
      "[0.6204641461372375] [0.6624463200569153] [0.64076828956604]\n"
     ]
    }
   ],
   "source": [
    "##Mesure la similarité sémantique entre la prédiction et la référence, basée sur des embeddings BERT. (contextual meaning)\n",
    "\n",
    "bertscore = evaluate.load(\"bertscore\")\n",
    "results = bertscore.compute(predictions=predictions, references=references, lang=\"fr\")\n",
    "print(results[\"precision\"], results[\"recall\"], results[\"f1\"])\n"
   ]
  },
  {
   "cell_type": "code",
   "execution_count": 344,
   "metadata": {},
   "outputs": [
    {
     "data": {
      "text/html": [
       "<div>\n",
       "<style scoped>\n",
       "    .dataframe tbody tr th:only-of-type {\n",
       "        vertical-align: middle;\n",
       "    }\n",
       "\n",
       "    .dataframe tbody tr th {\n",
       "        vertical-align: top;\n",
       "    }\n",
       "\n",
       "    .dataframe thead th {\n",
       "        text-align: right;\n",
       "    }\n",
       "</style>\n",
       "<table border=\"1\" class=\"dataframe\">\n",
       "  <thead>\n",
       "    <tr style=\"text-align: right;\">\n",
       "      <th></th>\n",
       "      <th>_id</th>\n",
       "      <th>author</th>\n",
       "      <th>date_published</th>\n",
       "      <th>title_review</th>\n",
       "      <th>note</th>\n",
       "      <th>review_href</th>\n",
       "      <th>title</th>\n",
       "      <th>url</th>\n",
       "      <th>treated</th>\n",
       "      <th>comment</th>\n",
       "      <th>review_length</th>\n",
       "    </tr>\n",
       "  </thead>\n",
       "  <tbody>\n",
       "    <tr>\n",
       "      <th>200164</th>\n",
       "      <td>63c67f37993b727dc2aa5ad9</td>\n",
       "      <td>sheewi</td>\n",
       "      <td>2014-09-14 12:17:31</td>\n",
       "      <td>Intéressant - Bataille avec une forme d'aléatoire</td>\n",
       "      <td>7.3</td>\n",
       "      <td>https://www.trictrac.net/avis/interessant-bata...</td>\n",
       "      <td>Shogun</td>\n",
       "      <td>https://www.trictrac.net/jeu-de-societe/shogun...</td>\n",
       "      <td>True</td>\n",
       "      <td>Le système de cube au lieu des dès n'est pas f...</td>\n",
       "      <td>190.0</td>\n",
       "    </tr>\n",
       "  </tbody>\n",
       "</table>\n",
       "</div>"
      ],
      "text/plain": [
       "                             _id  author       date_published  \\\n",
       "200164  63c67f37993b727dc2aa5ad9  sheewi  2014-09-14 12:17:31   \n",
       "\n",
       "                                             title_review  note  \\\n",
       "200164  Intéressant - Bataille avec une forme d'aléatoire   7.3   \n",
       "\n",
       "                                              review_href   title  \\\n",
       "200164  https://www.trictrac.net/avis/interessant-bata...  Shogun   \n",
       "\n",
       "                                                      url  treated  \\\n",
       "200164  https://www.trictrac.net/jeu-de-societe/shogun...     True   \n",
       "\n",
       "                                                  comment  review_length  \n",
       "200164  Le système de cube au lieu des dès n'est pas f...          190.0  "
      ]
     },
     "execution_count": 344,
     "metadata": {},
     "output_type": "execute_result"
    }
   ],
   "source": [
    "pdAvis[(pdAvis[\"author\"] == \"sheewi\") & (pdAvis[\"title\"] == \"Shogun\")]"
   ]
  },
  {
   "cell_type": "markdown",
   "metadata": {
    "id": "izBqBWcbTrSE"
   },
   "source": [
    "# **une autre methode : word embeddings**"
   ]
  },
  {
   "cell_type": "code",
   "execution_count": 514,
   "metadata": {},
   "outputs": [],
   "source": [
    "from sentence_transformers import SentenceTransformer, util\n",
    "import numpy as np\n",
    "\n",
    "# Charger le modèle de Sentence-BERT\n",
    "model = SentenceTransformer('all-MiniLM-L6-v2')\n",
    "\n",
    "##peux faire un prétraitement léger et propre, mais évite d’en faire trop : les modèles comme SentenceTransformer sont puissants et entraînés sur du texte réel, bruité, donc ils tolèrent pas mal de choses."
   ]
  },
  {
   "cell_type": "code",
   "execution_count": 497,
   "metadata": {},
   "outputs": [],
   "source": [
    "#faire deux methodes a la fois avec le sentence transformer (pour chaque phrase) (ca c'est mieux parce que dans un meme commentaire il y a plusieurs aspects).\n",
    "#calculer avec bert --> prendre l'embedding le plus proche du barycentre qui va me donner le commentaire final. "
   ]
  },
  {
   "cell_type": "code",
   "execution_count": 529,
   "metadata": {},
   "outputs": [],
   "source": [
    "embeddings_proches_pos = model.encode(commentaires_voisins_pos)\n",
    "embeddings_proches_neg = model.encode(commentaires_voisins_neg)\n",
    "embeddings_lointains_pos = model.encode(commentaires_distant_pos)\n",
    "embeddings_lointains_neg = model.encode(commentaires_distant_neg)"
   ]
  },
  {
   "cell_type": "code",
   "execution_count": 519,
   "metadata": {},
   "outputs": [],
   "source": [
    "from sklearn.metrics.pairwise import cosine_similarity\n",
    "\n",
    "# Exemple d'embedding de l'utilisateur cible\n",
    "user_embedding = model.encode(comment_utilisateur)\n",
    "\n",
    "# Calcul de la similarité cosinus entre l'utilisateur et chaque groupe de commentaires\n",
    "similarity_proches_pos = cosine_similarity([user_embedding], embeddings_proches_pos)\n",
    "similarity_proches_neg = cosine_similarity([user_embedding], embeddings_proches_neg)\n",
    "similarity_lointains_pos = cosine_similarity([user_embedding], embeddings_lointains_pos)\n",
    "similarity_lointains_neg = cosine_similarity([user_embedding], embeddings_lointains_neg)"
   ]
  },
  {
   "cell_type": "code",
   "execution_count": 543,
   "metadata": {},
   "outputs": [],
   "source": [
    "#Chaque commentaire sera pondéré en fonction de sa similarité avec l'utilisateur cible. Plus la similarité est élevée, plus le commentaire aura de poids\n",
    "#mais aussi il sera pondere par la distance avec l'utilisateur. \n",
    "poids_proche = 1.0     # poids maximal\n",
    "poids_lointain = 0.5   # moitié moins important\n",
    "\n",
    "# Pondération avec la similarité * poids de proximité\n",
    "pond_proches_pos = 1\n",
    "pond_proches_neg = 1\n",
    "pond_lointains_pos = 1\n",
    "pond_lointains_neg = 1\n",
    "\n",
    "# Application aux embeddings\n",
    "weighted_embeddings_proches_pos = embeddings_proches_pos * pond_proches_pos\n",
    "weighted_embeddings_proches_neg = embeddings_proches_neg * pond_proches_neg\n",
    "weighted_embeddings_lointains_pos = embeddings_lointains_pos * pond_lointains_pos\n",
    "weighted_embeddings_lointains_neg = embeddings_lointains_neg * pond_lointains_neg"
   ]
  },
  {
   "cell_type": "code",
   "execution_count": 544,
   "metadata": {},
   "outputs": [],
   "source": [
    "# Calcul du barycentre (moyenne pondérée des embeddings)\n",
    "barycentre_proches_pos = np.mean(weighted_embeddings_proches_pos, axis=0)\n",
    "barycentre_proches_neg = np.mean(weighted_embeddings_proches_neg, axis=0)\n",
    "barycentre_lointains_pos = np.mean(weighted_embeddings_lointains_pos, axis=0)\n",
    "barycentre_lointains_neg = np.mean(weighted_embeddings_lointains_neg, axis=0)\n"
   ]
  },
  {
   "cell_type": "code",
   "execution_count": 545,
   "metadata": {},
   "outputs": [
    {
     "name": "stdout",
     "output_type": "stream",
     "text": [
      "Commentaire suggéré voisin postive comme explication :\n",
      "\n",
      "Voilà un jeux ou il faut autant faire de la gestion,du placement avec majorité, de la conquête.vraiment un très bon jeux que l'on a jouer avec ma petite femme elle a adorer. je trouve que le contexte du japon ressort bien avec ses paysants qui se révoltent et qu'il faut approvisioné avec du riz. Autant ce jeux et calculatoire mais le thème y est très présent.Les battaillent sont équillibrée par cette fameuse tour. Si une fois vous perdez la fois d'après ces vous qui gagné. Il y a une forme d'investissement de vos force dans cette tour que l'on ne retrouve pas dans les dés. EXELLENTS\n"
     ]
    }
   ],
   "source": [
    "similarities1 = util.cos_sim(barycentre_proches_pos, embeddings_proches_pos)[0]\n",
    "index_plus_proche1 = similarities1.argmax()\n",
    "\n",
    "# Le commentaire \"représentatif\"\n",
    "comment_representatif_voisins_pos =commentaires_voisins_pos[index_plus_proche1]\n",
    "print(f\"Commentaire suggéré voisin postive comme explication :\\n\\n{comment_representatif_voisins_pos}\")"
   ]
  },
  {
   "cell_type": "code",
   "execution_count": 546,
   "metadata": {},
   "outputs": [
    {
     "name": "stdout",
     "output_type": "stream",
     "text": [
      "Commentaire suggéré voisin negative comme explication :\n",
      "\n",
      "Les + :La qualité du matérielLa tour qui \"innove\" dans l'aléaDes actions simultanées et d'autres dans un ordre chronologiqueUn renouveau à chaque tour avec l'ordre des bonus et des actionsLe système de placement initialLes - :Chaque action ne sera faite que 6 fois maximum. Se déplacer que 6 fois pour faire tout le pays et attaquer un autre joueur à l'autre bout du plateau = Irréalisable. Construire que 6 fois maximum un type de bâtiment et tenter devenir majoritaire avecDes forces qui restent dans la coupelle appartenant à un joueur peuvent aidés lors d'un combat l'impliquant. Il a donc ses forces + le bonus de la coupelleBeaucoup trop long pour ce que l'on faitLe placement du départ peut créer un réel avantage[*]Système de point de majorité à double temps sur fond de guerre, c'est mi-figue, mi-raisin.\n"
     ]
    }
   ],
   "source": [
    "similarities2 = util.cos_sim(barycentre_proches_neg, embeddings_proches_neg)[0]\n",
    "index_plus_proche2 = similarities2.argmax()\n",
    "\n",
    "# Le commentaire \"représentatif\"\n",
    "comment_representatif_voisins_neg =commentaires_voisins_neg[index_plus_proche2]\n",
    "print(f\"Commentaire suggéré voisin negative comme explication :\\n\\n{comment_representatif_voisins_neg}\")"
   ]
  },
  {
   "cell_type": "code",
   "execution_count": 547,
   "metadata": {},
   "outputs": [
    {
     "name": "stdout",
     "output_type": "stream",
     "text": [
      "Commentaire suggéré lointain positive comme explication :\n",
      "\n",
      "J'ai pris beaucoup de plaisir avec ce jeu à 3 joueurs, je pense qu'avec un adversaire de plus ça doit être encore mieux.Après une mise en place relativement conséquente, une fois lancé tout se déroule parfaitement bien et chacun essaye de gérer au mieux les batailles, la conquête de nouvelles régions neutre ou adverses, l'argent et le riz sans oublier les constructions qui rapportent des points.Bien sûr on ne peut pas parler de Shogun sans évoquer sa tour de combat qui m'a, je dois le dire, influencé lors de mon achat, cette originalité rajoute une part de harsard et met une bonne ambiance lorsque tout le monde attend de voir quelles couleurs vont tomber dans la coupelle...Bref, pour mon premier jeu de conquête c'était que du bonheur, je le ressortirai sans hésiter !\n"
     ]
    }
   ],
   "source": [
    "similarities3 = util.cos_sim(barycentre_lointains_pos, embeddings_lointains_pos)[0]\n",
    "index_plus_proche3 = similarities3.argmax()\n",
    "\n",
    "# Le commentaire \"représentatif\"\n",
    "comment_representatif_lointains_pos =commentaires_distant_pos[index_plus_proche3]\n",
    "print(f\"Commentaire suggéré lointain positive comme explication :\\n\\n{comment_representatif_lointains_pos}\")"
   ]
  },
  {
   "cell_type": "code",
   "execution_count": 548,
   "metadata": {},
   "outputs": [
    {
     "name": "stdout",
     "output_type": "stream",
     "text": [
      "Commentaire suggéré lointain negative comme explication :\n",
      "\n",
      "Rien à dire c'est bien pensé, le matériel est très bon et on se prend facilement au jeu à essayer de développer son territoire.Mais petit hic cela reste un très gros jeu niveau temps (première partie on peut compter aisément 3H) pour un jeu qui n'a pas une grande dynamique sur le plateau. Alors oui c'est très fun d'utiliser la tour et les combats sont agréables à gérer, mais il y a peu de prises de territoires (2x3 soit 6 conquêtes maximum) et on peut ressortir de cela un peu frustré si l'on espérait y trouver un jeu de conquête.Edit : Trop long pour le plaisir qu'il apporte, il y a un fun à utiliser la tour mais le jeu est trop statique à mon goût.Compatible deutéranomalie\n"
     ]
    }
   ],
   "source": [
    "similarities4 = util.cos_sim(barycentre_lointains_neg, embeddings_lointains_neg)[0]\n",
    "index_plus_proche4 = similarities4.argmax()\n",
    "\n",
    "# Le commentaire \"représentatif\"\n",
    "comment_representatif_lointains_neg =commentaires_distant_neg[index_plus_proche4]\n",
    "print(f\"Commentaire suggéré lointain negative comme explication :\\n\\n{comment_representatif_lointains_neg}\")"
   ]
  },
  {
   "cell_type": "code",
   "execution_count": 549,
   "metadata": {},
   "outputs": [
    {
     "name": "stdout",
     "output_type": "stream",
     "text": [
      "Parmi les utilisateurs proches, ce commentaire est celui qui reflète le mieux leur avis global sur ce jeu. :\n",
      "\n",
      "Les + :La qualité du matérielLa tour qui \"innove\" dans l'aléaDes actions simultanées et d'autres dans un ordre chronologiqueUn renouveau à chaque tour avec l'ordre des bonus et des actionsLe système de placement initialLes - :Chaque action ne sera faite que 6 fois maximum. Se déplacer que 6 fois pour faire tout le pays et attaquer un autre joueur à l'autre bout du plateau = Irréalisable. Construire que 6 fois maximum un type de bâtiment et tenter devenir majoritaire avecDes forces qui restent dans la coupelle appartenant à un joueur peuvent aidés lors d'un combat l'impliquant. Il a donc ses forces + le bonus de la coupelleBeaucoup trop long pour ce que l'on faitLe placement du départ peut créer un réel avantage[*]Système de point de majorité à double temps sur fond de guerre, c'est mi-figue, mi-raisin.\n"
     ]
    }
   ],
   "source": [
    "#Rester centré sur les utilisateurs proches \n",
    "barycentre_global_proche = np.mean([barycentre_proches_pos, barycentre_proches_neg], axis=0)\n",
    "\n",
    "commentaires_voisins = list(set(commentaires_voisins_pos).union(set(commentaires_voisins_neg)))\n",
    "embeddings_voisins = model.encode(commentaires_voisins, convert_to_tensor=True)\n",
    "\n",
    "similarities5 = util.cos_sim(barycentre_global_proche, embeddings_voisins)[0]\n",
    "index_plus_proche5 = similarities5.argmax()\n",
    "\n",
    "# Le commentaire \"représentatif\"\n",
    "comment_representatif_voisins =commentaires_voisins[index_plus_proche5]\n",
    "print(f\"Parmi les utilisateurs proches, ce commentaire est celui qui reflète le mieux leur avis global sur ce jeu. :\\n\\n{comment_representatif_voisins}\")\n"
   ]
  },
  {
   "cell_type": "code",
   "execution_count": 550,
   "metadata": {},
   "outputs": [
    {
     "name": "stdout",
     "output_type": "stream",
     "text": [
      "Similarité cosinus entre le commentaire barycentrique et celui de l'utilisateur : 0.4528\n"
     ]
    }
   ],
   "source": [
    "commentaire_representatif = comment_representatif_voisins\n",
    "commentaire_utilisateur = pdAvis[(pdAvis[\"author\"] == \"sheewi\") & (pdAvis[\"title\"] == \"Shogun\")][\"comment\"].iloc[0]\n",
    "\n",
    "#Calcul des embeddings\n",
    "embedding_representatif = model.encode(commentaire_representatif, convert_to_tensor=True)\n",
    "embedding_utilisateur = model.encode(commentaire_utilisateur, convert_to_tensor=True)\n",
    "\n",
    "# Similarité cosinus\n",
    "similarity = util.cos_sim(embedding_representatif, embedding_utilisateur)[0][0].item()\n",
    "\n",
    "print(f\"Similarité cosinus entre le commentaire barycentrique et celui de l'utilisateur : {similarity:.4f}\")"
   ]
  },
  {
   "cell_type": "code",
   "execution_count": 555,
   "metadata": {},
   "outputs": [
    {
     "name": "stdout",
     "output_type": "stream",
     "text": [
      "{'rouge1': 0.18848167539267013, 'rouge2': 0.03174603174603175, 'rougeL': 0.09424083769633507, 'rougeLsum': 0.09424083769633507}\n"
     ]
    }
   ],
   "source": [
    "predictions = [comment_representatif_voisins]\n",
    "references = [pdAvis[(pdAvis[\"author\"] == utilisateur) & (pdAvis[\"title\"] == jeu)][\"comment\"].iloc[0]]\n",
    "\n",
    "# Define the candidate predictions and reference sentences\n",
    "rouge = evaluate.load(\"rouge\")\n",
    "\n",
    "results_rouge = rouge.compute(predictions=predictions, references=references)\n",
    "\n",
    "# Print the results\n",
    "print(results_rouge)"
   ]
  },
  {
   "cell_type": "code",
   "execution_count": 551,
   "metadata": {},
   "outputs": [
    {
     "name": "stdout",
     "output_type": "stream",
     "text": [
      "Parmi les utilisateurs lointains, ce commentaire est celui qui reflète le mieux leur avis global sur ce jeu. :\n",
      "\n",
      "J'ai pris beaucoup de plaisir avec ce jeu à 3 joueurs, je pense qu'avec un adversaire de plus ça doit être encore mieux.Après une mise en place relativement conséquente, une fois lancé tout se déroule parfaitement bien et chacun essaye de gérer au mieux les batailles, la conquête de nouvelles régions neutre ou adverses, l'argent et le riz sans oublier les constructions qui rapportent des points.Bien sûr on ne peut pas parler de Shogun sans évoquer sa tour de combat qui m'a, je dois le dire, influencé lors de mon achat, cette originalité rajoute une part de harsard et met une bonne ambiance lorsque tout le monde attend de voir quelles couleurs vont tomber dans la coupelle...Bref, pour mon premier jeu de conquête c'était que du bonheur, je le ressortirai sans hésiter !\n"
     ]
    }
   ],
   "source": [
    "barycentre_global_distant = np.mean([barycentre_lointains_pos, barycentre_lointains_neg], axis=0)\n",
    "\n",
    "commentaires_distant = list(set(commentaires_distant_pos).union(set(commentaires_distant_neg)))\n",
    "embeddings_distant = model.encode(commentaires_distant, convert_to_tensor=True)\n",
    "\n",
    "similarities6 = util.cos_sim(barycentre_global_distant, embeddings_distant)[0]\n",
    "index_plus_proche6 = similarities6.argmax()\n",
    "\n",
    "# Le commentaire \"représentatif\"\n",
    "comment_representatif_distant =commentaires_distant[index_plus_proche6]\n",
    "print(f\"Parmi les utilisateurs lointains, ce commentaire est celui qui reflète le mieux leur avis global sur ce jeu. :\\n\\n{comment_representatif_distant}\")\n"
   ]
  },
  {
   "cell_type": "code",
   "execution_count": 552,
   "metadata": {},
   "outputs": [
    {
     "name": "stdout",
     "output_type": "stream",
     "text": [
      "Similarité cosinus entre le commentaire barycentrique et celui de l'utilisateur : 0.4978\n"
     ]
    }
   ],
   "source": [
    "commentaire_representatif = comment_representatif_distant\n",
    "commentaire_utilisateur = pdAvis[(pdAvis[\"author\"] == \"sheewi\") & (pdAvis[\"title\"] == \"Shogun\")][\"comment\"].iloc[0]\n",
    "\n",
    "#Calcul des embeddings\n",
    "embedding_representatif = model.encode(commentaire_representatif, convert_to_tensor=True)\n",
    "embedding_utilisateur = model.encode(commentaire_utilisateur, convert_to_tensor=True)\n",
    "\n",
    "# Similarité cosinus\n",
    "similarity = util.cos_sim(embedding_representatif, embedding_utilisateur)[0][0].item()\n",
    "\n",
    "print(f\"Similarité cosinus entre le commentaire barycentrique et celui de l'utilisateur : {similarity:.4f}\")\n",
    "#peut etre parce qu'il y a plus d'utilisateurs lointains (idee prendre la meme taille pour les deux?)"
   ]
  },
  {
   "cell_type": "code",
   "execution_count": 556,
   "metadata": {},
   "outputs": [
    {
     "name": "stdout",
     "output_type": "stream",
     "text": [
      "{'rouge1': 0.22340425531914893, 'rouge2': 0.0, 'rougeL': 0.10638297872340427, 'rougeLsum': 0.10638297872340427}\n"
     ]
    }
   ],
   "source": [
    "predictions = [comment_representatif_distant]\n",
    "references = [pdAvis[(pdAvis[\"author\"] == utilisateur) & (pdAvis[\"title\"] == jeu)][\"comment\"].iloc[0]]\n",
    "\n",
    "# Define the candidate predictions and reference sentences\n",
    "rouge = evaluate.load(\"rouge\")\n",
    "\n",
    "results_rouge = rouge.compute(predictions=predictions, references=references)\n",
    "\n",
    "# Print the results\n",
    "print(results_rouge)"
   ]
  },
  {
   "cell_type": "code",
   "execution_count": 553,
   "metadata": {},
   "outputs": [
    {
     "name": "stdout",
     "output_type": "stream",
     "text": [
      "Parmi tous les utilisateurs (proches et lointains) qui ont un commentaire **positif**, voici celui qui reflète le mieux leur avis global :\n",
      "\n",
      "J'ai pris beaucoup de plaisir avec ce jeu à 3 joueurs, je pense qu'avec un adversaire de plus ça doit être encore mieux.Après une mise en place relativement conséquente, une fois lancé tout se déroule parfaitement bien et chacun essaye de gérer au mieux les batailles, la conquête de nouvelles régions neutre ou adverses, l'argent et le riz sans oublier les constructions qui rapportent des points.Bien sûr on ne peut pas parler de Shogun sans évoquer sa tour de combat qui m'a, je dois le dire, influencé lors de mon achat, cette originalité rajoute une part de harsard et met une bonne ambiance lorsque tout le monde attend de voir quelles couleurs vont tomber dans la coupelle...Bref, pour mon premier jeu de conquête c'était que du bonheur, je le ressortirai sans hésiter !\n"
     ]
    }
   ],
   "source": [
    "# Nombre de commentaires positifs dans chaque groupe\n",
    "n_proches_pos = len(commentaires_voisins_pos)\n",
    "n_lointains_pos = len(commentaires_distant_pos)\n",
    "total_pos = n_proches_pos + n_lointains_pos\n",
    "\n",
    "# Calcul du barycentre global pondéré pour les commentaires positifs\n",
    "barycentre_global_pos_pondere = (\n",
    "    barycentre_proches_pos * (n_proches_pos / total_pos) +\n",
    "    barycentre_lointains_pos * (n_lointains_pos / total_pos)\n",
    ")\n",
    "\n",
    "commentaires_pos = list(set(commentaires_voisins_pos).union(set(commentaires_distant_pos)))\n",
    "embeddings_pos = model.encode(commentaires_pos, convert_to_tensor=True)\n",
    "\n",
    "similarities7 = util.cos_sim(barycentre_global_pos_pondere, embeddings_pos)[0]\n",
    "index_plus_proche7 = similarities7.argmax()\n",
    "\n",
    "comment_representatif_pos = commentaires_pos[index_plus_proche7]\n",
    "\n",
    "print(f\"Parmi tous les utilisateurs (proches et lointains) qui ont un commentaire **positif**, voici celui qui reflète le mieux leur avis global :\\n\\n{comment_representatif_pos}\")\n"
   ]
  },
  {
   "cell_type": "code",
   "execution_count": 554,
   "metadata": {},
   "outputs": [
    {
     "name": "stdout",
     "output_type": "stream",
     "text": [
      "Parmi les utilisateurs lointains et proches qui ont un commentaire negative, ce commentaire est celui qui reflète le mieux leur avis global sur ce jeu. :\n",
      "\n",
      "Les + :La qualité du matérielLa tour qui \"innove\" dans l'aléaDes actions simultanées et d'autres dans un ordre chronologiqueUn renouveau à chaque tour avec l'ordre des bonus et des actionsLe système de placement initialLes - :Chaque action ne sera faite que 6 fois maximum. Se déplacer que 6 fois pour faire tout le pays et attaquer un autre joueur à l'autre bout du plateau = Irréalisable. Construire que 6 fois maximum un type de bâtiment et tenter devenir majoritaire avecDes forces qui restent dans la coupelle appartenant à un joueur peuvent aidés lors d'un combat l'impliquant. Il a donc ses forces + le bonus de la coupelleBeaucoup trop long pour ce que l'on faitLe placement du départ peut créer un réel avantage[*]Système de point de majorité à double temps sur fond de guerre, c'est mi-figue, mi-raisin.\n"
     ]
    }
   ],
   "source": [
    "barycentre_global_neg = np.mean([barycentre_proches_neg, barycentre_lointains_neg], axis=0)\n",
    "\n",
    "commentaires_neg = list(set(commentaires_voisins_neg).union(set(commentaires_distant_neg)))\n",
    "embeddings_neg = model.encode(commentaires_neg, convert_to_tensor=True)\n",
    "\n",
    "similarities8 = util.cos_sim(barycentre_global_neg, embeddings_neg)[0]\n",
    "index_plus_proche8 = similarities8.argmax()\n",
    "\n",
    "# Le commentaire \"représentatif\"\n",
    "comment_representatif_neg =commentaires_neg[index_plus_proche8]\n",
    "print(f\"Parmi les utilisateurs lointains et proches qui ont un commentaire negative, ce commentaire est celui qui reflète le mieux leur avis global sur ce jeu. :\\n\\n{comment_representatif_neg}\")\n"
   ]
  },
  {
   "cell_type": "code",
   "execution_count": 513,
   "metadata": {},
   "outputs": [
    {
     "name": "stdout",
     "output_type": "stream",
     "text": [
      "Parmi tous les utilisateurs (proches et lointains) qui ont un commentaire négatif, voici celui qui reflète le mieux leur avis global :\n",
      "\n",
      "Rien à dire c'est bien pensé, le matériel est très bon et on se prend facilement au jeu à essayer de développer son territoire.Mais petit hic cela reste un très gros jeu niveau temps (première partie on peut compter aisément 3H) pour un jeu qui n'a pas une grande dynamique sur le plateau. Alors oui c'est très fun d'utiliser la tour et les combats sont agréables à gérer, mais il y a peu de prises de territoires (2x3 soit 6 conquêtes maximum) et on peut ressortir de cela un peu frustré si l'on espérait y trouver un jeu de conquête.Edit : Trop long pour le plaisir qu'il apporte, il y a un fun à utiliser la tour mais le jeu est trop statique à mon goût.Compatible deutéranomalie\n"
     ]
    }
   ],
   "source": [
    "# Nombre de commentaires négatifs dans chaque groupe\n",
    "n_proches_neg = len(commentaires_voisins_neg)\n",
    "n_lointains_neg = len(commentaires_distant_neg)\n",
    "total_neg = n_proches_neg + n_lointains_neg\n",
    "\n",
    "# Calcul du barycentre global pondéré pour les commentaires négatifs\n",
    "barycentre_global_neg_pondere = (\n",
    "    barycentre_proches_neg * (n_proches_neg / total_neg) +\n",
    "    barycentre_lointains_neg * (n_lointains_neg / total_neg)\n",
    ")\n",
    "\n",
    "commentaires_neg = list(set(commentaires_voisins_neg).union(set(commentaires_distant_neg)))\n",
    "embeddings_neg = model.encode(commentaires_neg, convert_to_tensor=True)\n",
    "\n",
    "similarities8 = util.cos_sim(barycentre_global_neg_pondere, embeddings_neg)[0]\n",
    "index_plus_proche8 = similarities8.argmax()\n",
    "\n",
    "comment_representatif_neg = commentaires_neg[index_plus_proche8]\n",
    "\n",
    "print(f\"Parmi tous les utilisateurs (proches et lointains) qui ont un commentaire négatif, voici celui qui reflète le mieux leur avis global :\\n\\n{comment_representatif_neg}\")\n"
   ]
  },
  {
   "cell_type": "code",
   "execution_count": null,
   "metadata": {},
   "outputs": [],
   "source": []
  },
  {
   "cell_type": "code",
   "execution_count": 422,
   "metadata": {},
   "outputs": [
    {
     "name": "stderr",
     "output_type": "stream",
     "text": [
      "[nltk_data] Downloading package punkt to\n",
      "[nltk_data]     C:\\Users\\Habiba\\AppData\\Roaming\\nltk_data...\n",
      "[nltk_data]   Package punkt is already up-to-date!\n",
      "[nltk_data] Downloading package punkt_tab to\n",
      "[nltk_data]     C:\\Users\\Habiba\\AppData\\Roaming\\nltk_data...\n",
      "[nltk_data]   Unzipping tokenizers\\punkt_tab.zip.\n"
     ]
    },
    {
     "data": {
      "text/plain": [
       "True"
      ]
     },
     "execution_count": 422,
     "metadata": {},
     "output_type": "execute_result"
    }
   ],
   "source": [
    "import nltk\n",
    "nltk.download('punkt')\n",
    "nltk.download('punkt_tab')"
   ]
  },
  {
   "cell_type": "code",
   "execution_count": 450,
   "metadata": {},
   "outputs": [],
   "source": [
    "#Découper chaque commentaire en phrases\n",
    "from nltk.tokenize import sent_tokenize\n",
    "\n",
    "phrases_proches_pos = [sent for comment in commentaires_voisins_pos for sent in sent_tokenize(comment, language=\"french\")]\n",
    "phrases_proches_neg = [sent for comment in commentaires_voisins_neg for sent in sent_tokenize(comment, language=\"french\")]\n",
    "phrases_proches = list(set(phrases_proches_pos).union(set(phrases_proches_neg)))\n",
    "\n",
    "phrases_lointains_pos = [sent for comment in commentaires_distant_pos for sent in sent_tokenize(comment, language=\"french\")]\n",
    "phrases_lointains_neg = [sent for comment in commentaires_distant_neg for sent in sent_tokenize(comment, language=\"french\")]\n",
    "phrases_lointains = list(set(phrases_lointains_pos).union(set(phrases_lointains_neg)))"
   ]
  },
  {
   "cell_type": "code",
   "execution_count": 451,
   "metadata": {},
   "outputs": [],
   "source": [
    "#calculer les embeddings de chaque phrase\n",
    "embeddings_phrases_proches_pos = model.encode(phrases_proches_pos, convert_to_numpy=True, normalize_embeddings=True)\n",
    "embeddings_phrases_proches_neg = model.encode(phrases_proches_neg, convert_to_numpy=True, normalize_embeddings=True)\n",
    "\n",
    "embeddings_phrases_proches = model.encode(phrases_proches, convert_to_numpy=True, normalize_embeddings=True)\n",
    "\n",
    "embeddings_phrases_lointains_pos = model.encode(phrases_lointains_pos, convert_to_numpy=True, normalize_embeddings=True)\n",
    "embeddings_phrases_lointains_neg = model.encode(phrases_lointains_neg, convert_to_numpy=True, normalize_embeddings=True)\n",
    "\n",
    "embeddings_phrases_lointains = model.encode(phrases_lointains, convert_to_numpy=True, normalize_embeddings=True)"
   ]
  },
  {
   "cell_type": "code",
   "execution_count": 538,
   "metadata": {},
   "outputs": [
    {
     "name": "stdout",
     "output_type": "stream",
     "text": [
      "\n",
      " Aspect #1 — Phrase représentative :\n",
      "Bon jeu de planification.\n",
      "\n",
      " Aspect #2 — Phrase représentative :\n",
      "Il a donc ses forces + le bonus de la coupelleBeaucoup trop long pour ce que l'on faitLe placement du départ peut créer un réel avantage[*]Système de point de majorité à double temps sur fond de guerre, c'est mi-figue, mi-raisin.\n",
      "\n",
      " Aspect #3 — Phrase représentative :\n",
      "Ben quoi, on leur prend un peu de riz, un peu d'impôts et ils sont pas contents alors qu'on les défend!!\n",
      "\n",
      " Aspect #4 — Phrase représentative :\n",
      "Il y a une forme d'investissement de vos force dans cette tour que l'on ne retrouve pas dans les dés.\n",
      "\n",
      " Aspect #5 — Phrase représentative :\n",
      "Des mécanismes originaux, tour à cube, cubes paysans, planification des actions par rapport au région mais il lui manque quelque chose pour que ça soit un coup de cœur.\n",
      "\n",
      " Aspect #6 — Phrase représentative :\n",
      "EXELLENTS\n",
      "\n",
      " Aspect #7 — Phrase représentative :\n",
      "Il n'est en effet pas acceptable de laisser d'énorme coquilles, erreurs et imprécisions dans les règles d'un jeu déjà assez complexe.Au final, les erreurs dans la rédaction des règles disqualifient pour moi \"Shogun\" de la note de 5.\n"
     ]
    },
    {
     "name": "stderr",
     "output_type": "stream",
     "text": [
      "C:\\Users\\Habiba\\anaconda3\\Lib\\site-packages\\sklearn\\cluster\\_kmeans.py:1429: UserWarning: KMeans is known to have a memory leak on Windows with MKL, when there are less chunks than available threads. You can avoid it by setting the environment variable OMP_NUM_THREADS=1.\n",
      "  warnings.warn(\n"
     ]
    }
   ],
   "source": [
    "from sklearn.cluster import KMeans\n",
    "from sklearn.metrics.pairwise import cosine_similarity\n",
    "\n",
    "k = 7\n",
    "kmeans = KMeans(n_clusters=k, random_state=42)\n",
    "labels = kmeans.fit_predict(embeddings_phrases_proches)\n",
    "\n",
    "phrases_representatives = []\n",
    "\n",
    "for i in range(k):\n",
    "    indices_cluster_i = np.where(labels == i)[0]\n",
    "    cluster_embeddings = embeddings_phrases_proches[indices_cluster_i]\n",
    "    cluster_center = kmeans.cluster_centers_[i]\n",
    "    \n",
    "    # Similarité entre chaque embedding et le centre du cluster\n",
    "    similarities = cosine_similarity([cluster_center], cluster_embeddings)[0]\n",
    "    idx_best = similarities.argmax()\n",
    "    \n",
    "    phrase_representative = phrases_proches[indices_cluster_i[idx_best]]\n",
    "    phrases_representatives.append(phrase_representative)\n",
    "    print(f\"\\n Aspect #{i+1} — Phrase représentative :\\n{phrase_representative}\")"
   ]
  },
  {
   "cell_type": "code",
   "execution_count": 539,
   "metadata": {},
   "outputs": [
    {
     "name": "stdout",
     "output_type": "stream",
     "text": [
      "Commentaire généré à partir des utilisateurs similaires :\n",
      "\n",
      "Bon jeu de planification. Il a donc ses forces + le bonus de la coupelleBeaucoup trop long pour ce que l'on faitLe placement du départ peut créer un réel avantage[*]Système de point de majorité à double temps sur fond de guerre, c'est mi-figue, mi-raisin. Ben quoi, on leur prend un peu de riz, un peu d'impôts et ils sont pas contents alors qu'on les défend!! Il y a une forme d'investissement de vos force dans cette tour que l'on ne retrouve pas dans les dés. Des mécanismes originaux, tour à cube, cubes paysans, planification des actions par rapport au région mais il lui manque quelque chose pour que ça soit un coup de cœur. EXELLENTS Il n'est en effet pas acceptable de laisser d'énorme coquilles, erreurs et imprécisions dans les règles d'un jeu déjà assez complexe.Au final, les erreurs dans la rédaction des règles disqualifient pour moi \"Shogun\" de la note de 5.\n"
     ]
    }
   ],
   "source": [
    "# `phrases_representatives` contient une phrase par cluster\n",
    "commentaire_genere = \" \".join(phrases_representatives)\n",
    "print(\"Commentaire généré à partir des utilisateurs similaires :\\n\")\n",
    "print(commentaire_genere)\n"
   ]
  },
  {
   "cell_type": "code",
   "execution_count": 540,
   "metadata": {},
   "outputs": [
    {
     "name": "stdout",
     "output_type": "stream",
     "text": [
      "\n",
      "Similarité cosinus entre le commentaire généré et celui de l'utilisateur : 0.5125\n"
     ]
    }
   ],
   "source": [
    "from sentence_transformers import util\n",
    "\n",
    "# Embedding du commentaire utilisateur\n",
    "commentaire_utilisateur = pdAvis[(pdAvis[\"author\"] == utilisateur) & (pdAvis[\"title\"] == jeu)][\"comment\"].iloc[0]\n",
    "embedding_user_comment = model.encode(commentaire_utilisateur, convert_to_tensor=True)\n",
    "\n",
    "# Embedding du commentaire généré\n",
    "embedding_genere = model.encode(commentaire_genere, convert_to_tensor=True)\n",
    "\n",
    "# Similarité cosinus\n",
    "similarite = util.cos_sim(embedding_genere, embedding_user_comment)[0][0].item()\n",
    "print(f\"\\nSimilarité cosinus entre le commentaire généré et celui de l'utilisateur : {similarite:.4f}\")\n"
   ]
  },
  {
   "cell_type": "code",
   "execution_count": 541,
   "metadata": {},
   "outputs": [
    {
     "name": "stdout",
     "output_type": "stream",
     "text": [
      "{'rouge1': 0.2201834862385321, 'rouge2': 0.0462962962962963, 'rougeL': 0.13761467889908258, 'rougeLsum': 0.13761467889908258}\n"
     ]
    }
   ],
   "source": [
    "predictions = [commentaire_genere]\n",
    "references = [pdAvis[(pdAvis[\"author\"] == utilisateur) & (pdAvis[\"title\"] == jeu)][\"comment\"].iloc[0]]\n",
    "\n",
    "# Load the BLEU evaluation metric\n",
    "rouge = evaluate.load(\"rouge\")\n",
    "\n",
    "# Compute the BLEU score\n",
    "results = rouge.compute(predictions=predictions, references=references)\n",
    "\n",
    "# Print the results\n",
    "print(results)"
   ]
  },
  {
   "cell_type": "code",
   "execution_count": 542,
   "metadata": {},
   "outputs": [
    {
     "name": "stdout",
     "output_type": "stream",
     "text": [
      "[0.612995445728302] [0.6740860342979431] [0.642090916633606]\n"
     ]
    }
   ],
   "source": [
    "#le bert score n'a pas change entre les comentaires proches et les commentaires lointains.\n",
    "\n",
    "bertscore = evaluate.load(\"bertscore\")\n",
    "results = bertscore.compute(predictions=predictions, references=references, lang=\"fr\")\n",
    "print(results[\"precision\"], results[\"recall\"], results[\"f1\"])"
   ]
  },
  {
   "cell_type": "markdown",
   "metadata": {},
   "source": [
    "**tfidf**"
   ]
  },
  {
   "cell_type": "code",
   "execution_count": null,
   "metadata": {
    "id": "LyM1pT4XTrSE"
   },
   "outputs": [],
   "source": [
    "from sklearn.feature_extraction.text import TfidfVectorizer\n",
    "from sklearn.metrics.pairwise import cosine_similarity\n",
    "\n",
    "# Vectorisation TF-IDF\n",
    "vectorizer = TfidfVectorizer()\n",
    "tfidf_matrix = vectorizer.fit_transform(pdAvis[\"comment_clean\"])\n",
    "\n"
   ]
  },
  {
   "cell_type": "code",
   "execution_count": 415,
   "metadata": {
    "colab": {
     "base_uri": "https://localhost:8080/"
    },
    "id": "x-3pMSv1TrSE",
    "outputId": "21dabecf-0238-40e3-a4ce-273e2f132f50"
   },
   "outputs": [
    {
     "name": "stdout",
     "output_type": "stream",
     "text": [
      "140157\n"
     ]
    }
   ],
   "source": [
    "allcommts = [comment for comment in pdAvis[\"comment\"]]\n",
    "print(len(allcommts))"
   ]
  },
  {
   "cell_type": "code",
   "execution_count": null,
   "metadata": {
    "id": "vuhAkiiWTrSE",
    "outputId": "1a41d2e3-68a8-4dab-b4fc-3a4ab63e8a72"
   },
   "outputs": [
    {
     "name": "stdout",
     "output_type": "stream",
     "text": [
      "136116\n",
      "['aaaaaaaaaaaaaaaaaaaaaaaaaaaaaahhhhh'\n",
      " 'aaaaaaaaaaaaaaaaaaaaaaaahhhhhhhhhhhhhhhhhhhhhhhhhh'\n",
      " 'aaaaaaaaaaaaaaaaaaaaaadore' 'aaaaaaaaaaaaaaaaaarg'\n",
      " 'aaaaaaaaaaaaaaarrrgggggggghh' 'aaaaaaaaaaaaarrrrrrrrrrgggghhhh'\n",
      " 'aaaaaaaaaaaah' 'aaaaaaaaaaah' 'aaaaaaaaaah' 'aaaaaaaaaahhh']\n"
     ]
    }
   ],
   "source": [
    "vectorizer = CountVectorizer(preprocessor=preprocess)\n",
    "X = vectorizer.fit_transform(allcommts)\n",
    "dic_size = X.shape[1]\n",
    "print(dic_size)\n",
    "print(vectorizer.get_feature_names_out()[:10])"
   ]
  },
  {
   "cell_type": "code",
   "execution_count": null,
   "metadata": {
    "id": "jJbD3EPATrSE",
    "outputId": "369e0a99-96ab-499e-adf7-ea8db22765b8"
   },
   "outputs": [
    {
     "name": "stdout",
     "output_type": "stream",
     "text": [
      "(142845, 135981)\n"
     ]
    }
   ],
   "source": [
    "#nltk.download('stopwords')\n",
    "stop_words = list(set(stopwords.words(\"french\")).union({\"jeu\"}))\n",
    "\n",
    "vectorizer = TfidfVectorizer(stop_words=stop_words, preprocessor= preprocess)\n",
    "X_clean = vectorizer.fit_transform(allcommts)\n",
    "print(X_clean.shape)"
   ]
  },
  {
   "cell_type": "code",
   "execution_count": null,
   "metadata": {
    "id": "2awZuBztTrSI",
    "outputId": "d1c168eb-a93f-431f-f8ab-ee243b1095bf"
   },
   "outputs": [
    {
     "name": "stdout",
     "output_type": "stream",
     "text": [
      "108371\n",
      "['aaaaaaaaaaaaaaaaaaaaaaaaaaaaaahhhhh'\n",
      " 'aaaaaaaaaaaaaaaaaaaaaaaahhhhhhhhhhhhhhhhhhhhhhhhhh'\n",
      " 'aaaaaaaaaaaaaaaaaaaaaadore' 'aaaaaaaaaaaaaaaaaarg'\n",
      " 'aaaaaaaaaaaaaaarrrgggggggghh' 'aaaaaaaaaaaaarrrrrrrrrrgggghhhh'\n",
      " 'aaaaaaaaaaaah' 'aaaaaaaaaaah' 'aaaaaaaaaah' 'aaaaaaaaaahhh']\n"
     ]
    }
   ],
   "source": [
    "vectorizer_pos = CountVectorizer(preprocessor=preprocess, stop_words=stop_words)\n",
    "X_positif = vectorizer_pos.fit_transform(positifs)\n",
    "dic_size = X_positif.shape[1]\n",
    "print(dic_size)\n",
    "print(vectorizer_pos.get_feature_names_out()[:10])"
   ]
  },
  {
   "cell_type": "code",
   "execution_count": null,
   "metadata": {
    "id": "d5Y-86EtTrSJ",
    "outputId": "0be08d31-eead-48ef-c92a-f57e0613df05"
   },
   "outputs": [
    {
     "name": "stdout",
     "output_type": "stream",
     "text": [
      "set()\n",
      "0\n"
     ]
    }
   ],
   "source": [
    "commonwords=set()\n",
    "cpt=0\n",
    "for w in filtered_positifs_clean[:1000]:\n",
    "    if w in filtered_negatifs_clean[:1000]:\n",
    "        commonwords.add(w)\n",
    "        cpt+=1\n",
    "\n",
    "print(commonwords)\n",
    "print(cpt)#checking if their is overlapp between the 2"
   ]
  },
  {
   "cell_type": "code",
   "execution_count": 46,
   "metadata": {
    "colab": {
     "base_uri": "https://localhost:8080/"
    },
    "id": "FUB2wU2VebTH",
    "outputId": "afaaaf18-79ba-42c2-f312-d6e1ddf7b493"
   },
   "outputs": [
    {
     "name": "stdout",
     "output_type": "stream",
     "text": [
      "27\n"
     ]
    }
   ],
   "source": [
    "print(len(comments_of_neighbors))"
   ]
  },
  {
   "cell_type": "code",
   "execution_count": 41,
   "metadata": {
    "colab": {
     "base_uri": "https://localhost:8080/"
    },
    "id": "7c70CAu9luIp",
    "outputId": "cf7c40ed-3742-43fb-bd45-f57b93834010"
   },
   "outputs": [
    {
     "name": "stderr",
     "output_type": "stream",
     "text": [
      "[nltk_data] Downloading package stopwords to /root/nltk_data...\n",
      "[nltk_data]   Unzipping corpora/stopwords.zip.\n"
     ]
    },
    {
     "data": {
      "text/plain": [
       "True"
      ]
     },
     "execution_count": 41,
     "metadata": {},
     "output_type": "execute_result"
    }
   ],
   "source": [
    "import nltk\n",
    "nltk.download('stopwords')"
   ]
  },
  {
   "cell_type": "code",
   "execution_count": 47,
   "metadata": {
    "colab": {
     "base_uri": "https://localhost:8080/"
    },
    "id": "kOx5W4XwZ2ri",
    "outputId": "c0950351-4f56-433e-9b6e-9379fa52e264"
   },
   "outputs": [
    {
     "name": "stdout",
     "output_type": "stream",
     "text": [
      "Forme de la matrice TF-IDF : (27, 1437)\n"
     ]
    }
   ],
   "source": [
    "stop_words = set(stopwords.words(\"french\")).union({\"jeu\"})\n",
    "\n",
    "vectorizer = TfidfVectorizer(preprocessor= preprocess, stop_words=list(stop_words))  # On enlève les stopwords anglais, ajustez selon la langue\n",
    "tfidf_matrix = vectorizer.fit_transform(comments_of_neighbors)\n",
    "\n",
    "# Afficher la forme de la matrice TF-IDF\n",
    "print(f\"Forme de la matrice TF-IDF : {tfidf_matrix.shape}\")"
   ]
  },
  {
   "cell_type": "code",
   "execution_count": 48,
   "metadata": {
    "colab": {
     "base_uri": "https://localhost:8080/"
    },
    "id": "LwoQ2gSMeOb6",
    "outputId": "257fa762-afd3-4071-9c7f-774967cecca0"
   },
   "outputs": [
    {
     "name": "stdout",
     "output_type": "stream",
     "text": [
      "Mots les plus fréquents (TF-IDF) :\n",
      "plus: 1.09\n",
      "tout: 1.04\n",
      "si: 1.03\n",
      "peut: 0.93\n",
      "jeux: 0.80\n",
      "donc: 0.79\n",
      "jouer: 0.77\n",
      "très: 0.75\n",
      "simple: 0.75\n",
      "splendor: 0.75\n",
      "bien: 0.71\n",
      "faire: 0.68\n",
      "ça: 0.64\n",
      "peu: 0.64\n",
      "cartes: 0.63\n",
      "merci: 0.62\n",
      "encore: 0.60\n",
      "où: 0.60\n",
      "comme: 0.59\n",
      "cette: 0.56\n"
     ]
    }
   ],
   "source": [
    "import numpy as np\n",
    "\n",
    "# Somme des poids TF-IDF pour chaque mot (colonne)\n",
    "word_sums = tfidf_matrix.sum(axis=0)\n",
    "\n",
    "# Récupérer les noms des termes\n",
    "terms = vectorizer.get_feature_names_out()\n",
    "\n",
    "# Associer chaque mot avec sa somme TF-IDF\n",
    "word_freq = [(terms[i], word_sums[0, i]) for i in range(len(terms))]\n",
    "\n",
    "# Trier par fréquence décroissante\n",
    "word_freq_sorted = sorted(word_freq, key=lambda x: x[1], reverse=True)\n",
    "\n",
    "# Afficher les 20 mots les plus fréquents avec leurs \"fréquences\" pondérées TF-IDF\n",
    "print(\"Mots les plus fréquents (TF-IDF) :\")\n",
    "for word, freq in word_freq_sorted[:20]:\n",
    "    print(f\"{word}: {freq:.2f}\")\n"
   ]
  },
  {
   "cell_type": "code",
   "execution_count": 49,
   "metadata": {
    "colab": {
     "base_uri": "https://localhost:8080/"
    },
    "id": "FA6vyjr_rnsd",
    "outputId": "bb3f2412-3c15-4a7b-f4ba-9960e8926a13"
   },
   "outputs": [
    {
     "name": "stdout",
     "output_type": "stream",
     "text": [
      "Collecting gensim\n",
      "  Downloading gensim-4.3.3-cp311-cp311-manylinux_2_17_x86_64.manylinux2014_x86_64.whl.metadata (8.1 kB)\n",
      "Requirement already satisfied: numpy<2.0,>=1.18.5 in /usr/local/lib/python3.11/dist-packages (from gensim) (1.24.0)\n",
      "Collecting scipy<1.14.0,>=1.7.0 (from gensim)\n",
      "  Downloading scipy-1.13.1-cp311-cp311-manylinux_2_17_x86_64.manylinux2014_x86_64.whl.metadata (60 kB)\n",
      "\u001b[2K     \u001b[90m━━━━━━━━━━━━━━━━━━━━━━━━━━━━━━━━━━━━━━━━\u001b[0m \u001b[32m60.6/60.6 kB\u001b[0m \u001b[31m2.4 MB/s\u001b[0m eta \u001b[36m0:00:00\u001b[0m\n",
      "\u001b[?25hRequirement already satisfied: smart-open>=1.8.1 in /usr/local/lib/python3.11/dist-packages (from gensim) (7.1.0)\n",
      "Requirement already satisfied: wrapt in /usr/local/lib/python3.11/dist-packages (from smart-open>=1.8.1->gensim) (1.17.2)\n",
      "Downloading gensim-4.3.3-cp311-cp311-manylinux_2_17_x86_64.manylinux2014_x86_64.whl (26.7 MB)\n",
      "\u001b[2K   \u001b[90m━━━━━━━━━━━━━━━━━━━━━━━━━━━━━━━━━━━━━━━━\u001b[0m \u001b[32m26.7/26.7 MB\u001b[0m \u001b[31m10.4 MB/s\u001b[0m eta \u001b[36m0:00:00\u001b[0m\n",
      "\u001b[?25hDownloading scipy-1.13.1-cp311-cp311-manylinux_2_17_x86_64.manylinux2014_x86_64.whl (38.6 MB)\n",
      "\u001b[2K   \u001b[90m━━━━━━━━━━━━━━━━━━━━━━━━━━━━━━━━━━━━━━━━\u001b[0m \u001b[32m38.6/38.6 MB\u001b[0m \u001b[31m7.8 MB/s\u001b[0m eta \u001b[36m0:00:00\u001b[0m\n",
      "\u001b[?25hInstalling collected packages: scipy, gensim\n",
      "  Attempting uninstall: scipy\n",
      "    Found existing installation: scipy 1.14.1\n",
      "    Uninstalling scipy-1.14.1:\n",
      "      Successfully uninstalled scipy-1.14.1\n",
      "\u001b[31mERROR: pip's dependency resolver does not currently take into account all the packages that are installed. This behaviour is the source of the following dependency conflicts.\n",
      "jaxlib 0.5.1 requires numpy>=1.25, but you have numpy 1.24.0 which is incompatible.\n",
      "imbalanced-learn 0.13.0 requires numpy<3,>=1.24.3, but you have numpy 1.24.0 which is incompatible.\n",
      "chex 0.1.89 requires numpy>=1.24.1, but you have numpy 1.24.0 which is incompatible.\n",
      "pymc 5.21.1 requires numpy>=1.25.0, but you have numpy 1.24.0 which is incompatible.\n",
      "jax 0.5.2 requires numpy>=1.25, but you have numpy 1.24.0 which is incompatible.\n",
      "albumentations 2.0.5 requires numpy>=1.24.4, but you have numpy 1.24.0 which is incompatible.\u001b[0m\u001b[31m\n",
      "\u001b[0mSuccessfully installed gensim-4.3.3 scipy-1.13.1\n"
     ]
    }
   ],
   "source": [
    "pip install gensim"
   ]
  },
  {
   "cell_type": "code",
   "execution_count": 51,
   "metadata": {
    "colab": {
     "base_uri": "https://localhost:8080/"
    },
    "id": "hJHoBn5JrzxS",
    "outputId": "56a933df-b95f-4589-a1c6-39b84129ffed"
   },
   "outputs": [
    {
     "name": "stderr",
     "output_type": "stream",
     "text": [
      "[nltk_data] Downloading package punkt_tab to /root/nltk_data...\n",
      "[nltk_data]   Unzipping tokenizers/punkt_tab.zip.\n"
     ]
    },
    {
     "data": {
      "text/plain": [
       "True"
      ]
     },
     "execution_count": 51,
     "metadata": {},
     "output_type": "execute_result"
    }
   ],
   "source": [
    "nltk.download('punkt_tab')"
   ]
  },
  {
   "cell_type": "code",
   "execution_count": 71,
   "metadata": {
    "id": "hF5_NZuFmETn"
   },
   "outputs": [],
   "source": [
    "import gensim\n",
    "from gensim import corpora\n",
    "from nltk.tokenize import word_tokenize\n",
    "\n",
    "stop_words = set(stopwords.words(\"french\")).union(\"jeu\")\n",
    "\n",
    "# Application sur les commentaires\n",
    "textss = [preprocess(comment) for comment in comments_of_neighbors if isinstance(comment, str)]\n",
    "\n",
    "texts = [\n",
    "    [word for word in word_tokenize(comment.lower()) if word not in stop_words and word.isalpha() and len(word) > 2]\n",
    "    for comment in textss\n",
    "]\n",
    "\n"
   ]
  },
  {
   "cell_type": "code",
   "execution_count": 72,
   "metadata": {
    "id": "l8U51Jm8rxOc"
   },
   "outputs": [],
   "source": [
    "dictionary = corpora.Dictionary(texts)\n",
    "corpus = [dictionary.doc2bow(text) for text in texts]\n",
    "\n",
    "\n",
    "lda_model = gensim.models.LdaModel(\n",
    "    corpus,\n",
    "    num_topics=5,  # nombre de topics\n",
    "    id2word=dictionary,\n",
    "    passes=10,\n",
    "    random_state=42\n",
    ")\n"
   ]
  },
  {
   "cell_type": "code",
   "execution_count": 73,
   "metadata": {
    "colab": {
     "base_uri": "https://localhost:8080/"
    },
    "id": "8wdtLWnxr3y7",
    "outputId": "5659df11-1106-4597-a605-b515ab1d9230"
   },
   "outputs": [
    {
     "name": "stdout",
     "output_type": "stream",
     "text": [
      "🔹 Topic 0: 0.025*\"jeu\" + 0.015*\"plus\" + 0.008*\"ham\" + 0.008*\"spider\" + 0.008*\"marvel\" + 0.007*\"donc\" + 0.007*\"peut\" + 0.007*\"splendor\" + 0.006*\"jouer\" + 0.006*\"héros\"\n",
      "🔹 Topic 1: 0.015*\"joueuse\" + 0.013*\"tuiles\" + 0.008*\"partie\" + 0.008*\"points\" + 0.008*\"paysages\" + 0.008*\"paysage\" + 0.008*\"ile\" + 0.008*\"nuage\" + 0.008*\"énergie\" + 0.008*\"montgolfière\"\n",
      "🔹 Topic 2: 0.009*\"jeu\" + 0.006*\"propose\" + 0.006*\"vin\" + 0.006*\"trek\" + 0.004*\"plus\" + 0.004*\"thème\" + 0.004*\"sans\" + 0.004*\"https\" + 0.004*\"avis\" + 0.003*\"fait\"\n",
      "🔹 Topic 3: 0.011*\"jeu\" + 0.009*\"cartes\" + 0.009*\"non\" + 0.009*\"papillons\" + 0.007*\"bien\" + 0.005*\"tout\" + 0.005*\"comme\" + 0.005*\"faire\" + 0.005*\"déplacement\" + 0.005*\"poétique\"\n",
      "🔹 Topic 4: 0.034*\"jeu\" + 0.008*\"tout\" + 0.007*\"plus\" + 0.006*\"très\" + 0.006*\"encore\" + 0.006*\"cette\" + 0.005*\"comme\" + 0.005*\"faut\" + 0.005*\"être\" + 0.005*\"allez\"\n"
     ]
    }
   ],
   "source": [
    "for i, topic in lda_model.print_topics(num_words=10):\n",
    "    print(f\"🔹 Topic {i}: {topic}\")\n"
   ]
  },
  {
   "cell_type": "code",
   "execution_count": null,
   "metadata": {
    "id": "Gzb89Y6mr7P9"
   },
   "outputs": [],
   "source": []
  }
 ],
 "metadata": {
  "colab": {
   "provenance": []
  },
  "kernelspec": {
   "display_name": "Python 3 (ipykernel)",
   "language": "python",
   "name": "python3"
  },
  "language_info": {
   "codemirror_mode": {
    "name": "ipython",
    "version": 3
   },
   "file_extension": ".py",
   "mimetype": "text/x-python",
   "name": "python",
   "nbconvert_exporter": "python",
   "pygments_lexer": "ipython3",
   "version": "3.12.7"
  }
 },
 "nbformat": 4,
 "nbformat_minor": 4
}
